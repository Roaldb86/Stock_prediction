{
 "cells": [
  {
   "cell_type": "code",
   "execution_count": 174,
   "metadata": {},
   "outputs": [],
   "source": [
    "import pandas as pd\n",
    "import numpy as np\n",
    "import matplotlib.pyplot as plt\n",
    "import seaborn as sns\n",
    "from sklearn.model_selection import train_test_split\n",
    "from sklearn.preprocessing import MinMaxScaler\n",
    "from sklearn.svm import SVC\n",
    "from sklearn.model_selection import GridSearchCV\n",
    "from sklearn.model_selection import RandomizedSearchCV\n",
    "from sklearn.metrics import roc_auc_score\n",
    "from sklearn.metrics import roc_curve\n",
    "from sklearn.linear_model import LogisticRegression\n",
    "from sklearn.ensemble import RandomForestClassifier\n",
    "from torch.autograd import Variable\n",
    "\n",
    "import torch.nn as nn\n",
    "import torch.nn.functional as F\n",
    "from torch import optim\n",
    "import torch.utils.data\n",
    "\n",
    "%matplotlib inline\n"
   ]
  },
  {
   "cell_type": "code",
   "execution_count": 50,
   "metadata": {},
   "outputs": [],
   "source": [
    "# Import data\n",
    "data = pd.read_excel(\"support_files/OSEBX.xlsx\")"
   ]
  },
  {
   "cell_type": "code",
   "execution_count": 51,
   "metadata": {},
   "outputs": [
    {
     "data": {
      "text/html": [
       "<div>\n",
       "<style scoped>\n",
       "    .dataframe tbody tr th:only-of-type {\n",
       "        vertical-align: middle;\n",
       "    }\n",
       "\n",
       "    .dataframe tbody tr th {\n",
       "        vertical-align: top;\n",
       "    }\n",
       "\n",
       "    .dataframe thead th {\n",
       "        text-align: right;\n",
       "    }\n",
       "</style>\n",
       "<table border=\"1\" class=\"dataframe\">\n",
       "  <thead>\n",
       "    <tr style=\"text-align: right;\">\n",
       "      <th></th>\n",
       "      <th>OSEBX</th>\n",
       "      <th>Last</th>\n",
       "      <th>High</th>\n",
       "      <th>Low</th>\n",
       "      <th>Official turnover (NOK)</th>\n",
       "    </tr>\n",
       "  </thead>\n",
       "  <tbody>\n",
       "    <tr>\n",
       "      <th>0</th>\n",
       "      <td>2018-11-14</td>\n",
       "      <td>NaN</td>\n",
       "      <td>NaN</td>\n",
       "      <td>NaN</td>\n",
       "      <td>3.790000e+02</td>\n",
       "    </tr>\n",
       "    <tr>\n",
       "      <th>1</th>\n",
       "      <td>2018-11-13</td>\n",
       "      <td>875.43</td>\n",
       "      <td>887.95</td>\n",
       "      <td>875.17</td>\n",
       "      <td>5.126725e+09</td>\n",
       "    </tr>\n",
       "    <tr>\n",
       "      <th>2</th>\n",
       "      <td>2018-11-12</td>\n",
       "      <td>886.62</td>\n",
       "      <td>892.64</td>\n",
       "      <td>885.44</td>\n",
       "      <td>3.591581e+09</td>\n",
       "    </tr>\n",
       "    <tr>\n",
       "      <th>3</th>\n",
       "      <td>2018-11-09</td>\n",
       "      <td>886.44</td>\n",
       "      <td>892.58</td>\n",
       "      <td>884.16</td>\n",
       "      <td>4.405451e+09</td>\n",
       "    </tr>\n",
       "    <tr>\n",
       "      <th>4</th>\n",
       "      <td>2018-11-08</td>\n",
       "      <td>892.49</td>\n",
       "      <td>900.74</td>\n",
       "      <td>891.50</td>\n",
       "      <td>4.463838e+09</td>\n",
       "    </tr>\n",
       "  </tbody>\n",
       "</table>\n",
       "</div>"
      ],
      "text/plain": [
       "       OSEBX    Last    High     Low  Official turnover (NOK)\n",
       "0 2018-11-14     NaN     NaN     NaN             3.790000e+02\n",
       "1 2018-11-13  875.43  887.95  875.17             5.126725e+09\n",
       "2 2018-11-12  886.62  892.64  885.44             3.591581e+09\n",
       "3 2018-11-09  886.44  892.58  884.16             4.405451e+09\n",
       "4 2018-11-08  892.49  900.74  891.50             4.463838e+09"
      ]
     },
     "execution_count": 51,
     "metadata": {},
     "output_type": "execute_result"
    }
   ],
   "source": [
    "data.head()"
   ]
  },
  {
   "cell_type": "code",
   "execution_count": 52,
   "metadata": {},
   "outputs": [],
   "source": [
    "data.rename(columns={'OSEBX' : 'Date', 'Official turnover (NOK)' : 'Volume'}, inplace=True)"
   ]
  },
  {
   "cell_type": "code",
   "execution_count": 53,
   "metadata": {},
   "outputs": [],
   "source": [
    "data['Date'] = pd.to_datetime(data['Date'])"
   ]
  },
  {
   "cell_type": "code",
   "execution_count": 54,
   "metadata": {},
   "outputs": [
    {
     "name": "stdout",
     "output_type": "stream",
     "text": [
      "<class 'pandas.core.frame.DataFrame'>\n",
      "RangeIndex: 5743 entries, 0 to 5742\n",
      "Data columns (total 5 columns):\n",
      "Date      5743 non-null datetime64[ns]\n",
      "Last      5742 non-null float64\n",
      "High      4390 non-null float64\n",
      "Low       4390 non-null float64\n",
      "Volume    5624 non-null float64\n",
      "dtypes: datetime64[ns](1), float64(4)\n",
      "memory usage: 224.4 KB\n"
     ]
    }
   ],
   "source": [
    "data.info()"
   ]
  },
  {
   "cell_type": "code",
   "execution_count": 55,
   "metadata": {},
   "outputs": [],
   "source": [
    "data['Direction'] = data.Last.diff().shift()"
   ]
  },
  {
   "cell_type": "code",
   "execution_count": 56,
   "metadata": {},
   "outputs": [],
   "source": [
    "data['Direction'] = data.Direction.apply(lambda x: 1 if x > 0 else 0)"
   ]
  },
  {
   "cell_type": "code",
   "execution_count": 57,
   "metadata": {},
   "outputs": [],
   "source": [
    "data['Close'] = data.Last.shift()\n",
    "data.drop('Last', axis=1, inplace=True)"
   ]
  },
  {
   "cell_type": "code",
   "execution_count": 58,
   "metadata": {},
   "outputs": [
    {
     "name": "stderr",
     "output_type": "stream",
     "text": [
      "C:\\anaconda\\lib\\site-packages\\ipykernel\\__main__.py:1: FutureWarning: set_value is deprecated and will be removed in a future release. Please use .at[] or .iat[] accessors instead\n",
      "  if __name__ == '__main__':\n",
      "C:\\anaconda\\lib\\site-packages\\ipykernel\\__main__.py:2: FutureWarning: set_value is deprecated and will be removed in a future release. Please use .at[] or .iat[] accessors instead\n",
      "  from ipykernel import kernelapp as app\n"
     ]
    }
   ],
   "source": [
    "data.set_value(1, 'Close', 876.30)\n",
    "data.set_value(0, 'Close', 872.10);"
   ]
  },
  {
   "cell_type": "code",
   "execution_count": 59,
   "metadata": {},
   "outputs": [],
   "source": [
    "# Reorder columns\n",
    "data = data[['Date', 'High', 'Low', 'Close', 'Volume', 'Direction']].copy()"
   ]
  },
  {
   "cell_type": "code",
   "execution_count": 60,
   "metadata": {},
   "outputs": [],
   "source": [
    "# Sort the timeseries correctly with last observation on the last row (important for technical features)\n",
    "data = data.sort_values(by='Date', ascending=True);"
   ]
  },
  {
   "cell_type": "code",
   "execution_count": 61,
   "metadata": {},
   "outputs": [],
   "source": [
    "# Moving average indicators, short, medium and long term\n",
    "data['SMA10'] = data.Close.rolling(10).mean()\n",
    "data['SMA30'] = data.Close.rolling(30).mean()\n",
    "data['SMA90'] = data.Close.rolling(90).mean()"
   ]
  },
  {
   "cell_type": "code",
   "execution_count": null,
   "metadata": {},
   "outputs": [],
   "source": []
  },
  {
   "cell_type": "code",
   "execution_count": 62,
   "metadata": {},
   "outputs": [],
   "source": [
    "# Exponential moving average \n",
    "data['EWA10'] = data['Close'].ewm(span=10, min_periods=10).mean()\n",
    "data['EWA30'] = data['Close'].ewm(span=30, min_periods=30).mean()\n",
    "data['EWA90'] = data['Close'].ewm(span=90, min_periods=90).mean()"
   ]
  },
  {
   "cell_type": "code",
   "execution_count": 63,
   "metadata": {},
   "outputs": [],
   "source": [
    "# Stochastic Osciallator\n",
    "data['SOI'] = (data['Close'] - data['Low']) / (data['High'] - data['Low'])"
   ]
  },
  {
   "cell_type": "code",
   "execution_count": 64,
   "metadata": {},
   "outputs": [],
   "source": [
    "# 10, 5 and 2 Day Momentum\n",
    "data['Momentum_10'] = data['Close'].diff(10)\n",
    "data['Momentum_5'] = data['Close'].diff(5)\n",
    "data['Momentum_2'] = data['Close'].diff(2)"
   ]
  },
  {
   "cell_type": "code",
   "execution_count": 65,
   "metadata": {},
   "outputs": [],
   "source": [
    "data['STD'] = data['Close'].rolling(20, min_periods=20).std()"
   ]
  },
  {
   "cell_type": "code",
   "execution_count": 66,
   "metadata": {},
   "outputs": [],
   "source": [
    "data['Day'] = data.Date.dt.dayofweek"
   ]
  },
  {
   "cell_type": "code",
   "execution_count": 67,
   "metadata": {},
   "outputs": [],
   "source": [
    "data['Day'].replace({0: 'Monday', 1 : 'Tuesday', 2: 'Wednesday', 3 : 'Thursday', 4 : 'Friday'}, inplace=True);"
   ]
  },
  {
   "cell_type": "code",
   "execution_count": 68,
   "metadata": {},
   "outputs": [
    {
     "data": {
      "text/plain": [
       "Tuesday      1172\n",
       "Wednesday    1171\n",
       "Friday       1149\n",
       "Monday       1126\n",
       "Thursday     1125\n",
       "Name: Day, dtype: int64"
      ]
     },
     "execution_count": 68,
     "metadata": {},
     "output_type": "execute_result"
    }
   ],
   "source": [
    "data.Day.value_counts()"
   ]
  },
  {
   "cell_type": "code",
   "execution_count": 69,
   "metadata": {},
   "outputs": [],
   "source": [
    "data = pd.get_dummies(data);"
   ]
  },
  {
   "cell_type": "code",
   "execution_count": 70,
   "metadata": {},
   "outputs": [],
   "source": [
    "data.reset_index(drop=True, inplace=True);"
   ]
  },
  {
   "cell_type": "code",
   "execution_count": 71,
   "metadata": {},
   "outputs": [],
   "source": [
    "def relative_strength_index(df, n):\n",
    "    \"\"\"Calculate Relative Strength Index(RSI) for given data.\n",
    "    \n",
    "    :param df: pandas.DataFrame\n",
    "    :param n: \n",
    "    :return: pandas.DataFrame\n",
    "    \"\"\"\n",
    "    i = 0\n",
    "    UpI = [0]\n",
    "    DoI = [0]\n",
    "    while i + 1 <= df.index[-1]:\n",
    "        UpMove = df.loc[i + 1, 'High'] - df.loc[i, 'High']\n",
    "        DoMove = df.loc[i, 'Low'] - df.loc[i + 1, 'Low']\n",
    "        if UpMove > DoMove and UpMove > 0:\n",
    "            UpD = UpMove\n",
    "        else:\n",
    "            UpD = 0\n",
    "        UpI.append(UpD)\n",
    "        if DoMove > UpMove and DoMove > 0:\n",
    "            DoD = DoMove\n",
    "        else:\n",
    "            DoD = 0\n",
    "        DoI.append(DoD)\n",
    "        i = i + 1\n",
    "    UpI = pd.Series(UpI)\n",
    "    DoI = pd.Series(DoI)\n",
    "    PosDI = pd.Series(UpI.ewm(span=n, min_periods=n).mean())\n",
    "    NegDI = pd.Series(DoI.ewm(span=n, min_periods=n).mean())\n",
    "    RSI = pd.Series(PosDI / (PosDI + NegDI), name='RSI_' + str(n))\n",
    "    df = df.join(RSI)\n",
    "    \n",
    "    return df"
   ]
  },
  {
   "cell_type": "code",
   "execution_count": 72,
   "metadata": {},
   "outputs": [],
   "source": [
    "data = relative_strength_index(data, 14)"
   ]
  },
  {
   "cell_type": "code",
   "execution_count": 73,
   "metadata": {},
   "outputs": [
    {
     "data": {
      "text/plain": [
       "Date                0\n",
       "High             1353\n",
       "Low              1353\n",
       "Close               0\n",
       "Volume            119\n",
       "Direction           0\n",
       "SMA10               9\n",
       "SMA30              29\n",
       "SMA90              89\n",
       "EWA10               9\n",
       "EWA30              29\n",
       "EWA90              89\n",
       "SOI              1353\n",
       "Momentum_10        10\n",
       "Momentum_5          5\n",
       "Momentum_2          2\n",
       "STD                19\n",
       "Day_Friday          0\n",
       "Day_Monday          0\n",
       "Day_Thursday        0\n",
       "Day_Tuesday         0\n",
       "Day_Wednesday       0\n",
       "RSI_14           1352\n",
       "dtype: int64"
      ]
     },
     "execution_count": 73,
     "metadata": {},
     "output_type": "execute_result"
    }
   ],
   "source": [
    "data.isnull().sum()"
   ]
  },
  {
   "cell_type": "code",
   "execution_count": 74,
   "metadata": {},
   "outputs": [
    {
     "data": {
      "text/html": [
       "<div>\n",
       "<style scoped>\n",
       "    .dataframe tbody tr th:only-of-type {\n",
       "        vertical-align: middle;\n",
       "    }\n",
       "\n",
       "    .dataframe tbody tr th {\n",
       "        vertical-align: top;\n",
       "    }\n",
       "\n",
       "    .dataframe thead th {\n",
       "        text-align: right;\n",
       "    }\n",
       "</style>\n",
       "<table border=\"1\" class=\"dataframe\">\n",
       "  <thead>\n",
       "    <tr style=\"text-align: right;\">\n",
       "      <th></th>\n",
       "      <th>Date</th>\n",
       "      <th>High</th>\n",
       "      <th>Low</th>\n",
       "      <th>Close</th>\n",
       "      <th>Volume</th>\n",
       "      <th>Direction</th>\n",
       "      <th>SMA10</th>\n",
       "      <th>SMA30</th>\n",
       "      <th>SMA90</th>\n",
       "      <th>EWA10</th>\n",
       "      <th>...</th>\n",
       "      <th>Momentum_10</th>\n",
       "      <th>Momentum_5</th>\n",
       "      <th>Momentum_2</th>\n",
       "      <th>STD</th>\n",
       "      <th>Day_Friday</th>\n",
       "      <th>Day_Monday</th>\n",
       "      <th>Day_Thursday</th>\n",
       "      <th>Day_Tuesday</th>\n",
       "      <th>Day_Wednesday</th>\n",
       "      <th>RSI_14</th>\n",
       "    </tr>\n",
       "  </thead>\n",
       "  <tbody>\n",
       "    <tr>\n",
       "      <th>5738</th>\n",
       "      <td>2018-11-08</td>\n",
       "      <td>900.74</td>\n",
       "      <td>891.50</td>\n",
       "      <td>886.44</td>\n",
       "      <td>4.463838e+09</td>\n",
       "      <td>0</td>\n",
       "      <td>886.731</td>\n",
       "      <td>897.993333</td>\n",
       "      <td>899.857444</td>\n",
       "      <td>888.206148</td>\n",
       "      <td>...</td>\n",
       "      <td>23.64</td>\n",
       "      <td>-2.58</td>\n",
       "      <td>-9.17</td>\n",
       "      <td>12.630985</td>\n",
       "      <td>0</td>\n",
       "      <td>0</td>\n",
       "      <td>1</td>\n",
       "      <td>0</td>\n",
       "      <td>0</td>\n",
       "      <td>0.637307</td>\n",
       "    </tr>\n",
       "    <tr>\n",
       "      <th>5739</th>\n",
       "      <td>2018-11-09</td>\n",
       "      <td>892.58</td>\n",
       "      <td>884.16</td>\n",
       "      <td>886.62</td>\n",
       "      <td>4.405451e+09</td>\n",
       "      <td>1</td>\n",
       "      <td>887.815</td>\n",
       "      <td>896.143667</td>\n",
       "      <td>899.834778</td>\n",
       "      <td>887.917757</td>\n",
       "      <td>...</td>\n",
       "      <td>10.84</td>\n",
       "      <td>-6.97</td>\n",
       "      <td>-5.87</td>\n",
       "      <td>12.487752</td>\n",
       "      <td>1</td>\n",
       "      <td>0</td>\n",
       "      <td>0</td>\n",
       "      <td>0</td>\n",
       "      <td>0</td>\n",
       "      <td>0.501824</td>\n",
       "    </tr>\n",
       "    <tr>\n",
       "      <th>5740</th>\n",
       "      <td>2018-11-12</td>\n",
       "      <td>892.64</td>\n",
       "      <td>885.44</td>\n",
       "      <td>875.43</td>\n",
       "      <td>3.591581e+09</td>\n",
       "      <td>0</td>\n",
       "      <td>888.473</td>\n",
       "      <td>893.839333</td>\n",
       "      <td>899.571444</td>\n",
       "      <td>885.647256</td>\n",
       "      <td>...</td>\n",
       "      <td>6.58</td>\n",
       "      <td>-15.48</td>\n",
       "      <td>-11.01</td>\n",
       "      <td>11.813649</td>\n",
       "      <td>0</td>\n",
       "      <td>1</td>\n",
       "      <td>0</td>\n",
       "      <td>0</td>\n",
       "      <td>0</td>\n",
       "      <td>0.502821</td>\n",
       "    </tr>\n",
       "    <tr>\n",
       "      <th>5741</th>\n",
       "      <td>2018-11-13</td>\n",
       "      <td>887.95</td>\n",
       "      <td>875.17</td>\n",
       "      <td>876.30</td>\n",
       "      <td>5.126725e+09</td>\n",
       "      <td>0</td>\n",
       "      <td>887.137</td>\n",
       "      <td>891.706000</td>\n",
       "      <td>899.407667</td>\n",
       "      <td>883.947755</td>\n",
       "      <td>...</td>\n",
       "      <td>-13.36</td>\n",
       "      <td>-19.31</td>\n",
       "      <td>-10.32</td>\n",
       "      <td>10.976545</td>\n",
       "      <td>0</td>\n",
       "      <td>0</td>\n",
       "      <td>0</td>\n",
       "      <td>1</td>\n",
       "      <td>0</td>\n",
       "      <td>0.360389</td>\n",
       "    </tr>\n",
       "    <tr>\n",
       "      <th>5742</th>\n",
       "      <td>2018-11-14</td>\n",
       "      <td>NaN</td>\n",
       "      <td>NaN</td>\n",
       "      <td>872.10</td>\n",
       "      <td>3.790000e+02</td>\n",
       "      <td>0</td>\n",
       "      <td>885.851</td>\n",
       "      <td>889.777667</td>\n",
       "      <td>899.264444</td>\n",
       "      <td>881.793618</td>\n",
       "      <td>...</td>\n",
       "      <td>-12.86</td>\n",
       "      <td>-20.39</td>\n",
       "      <td>-3.33</td>\n",
       "      <td>11.038384</td>\n",
       "      <td>0</td>\n",
       "      <td>0</td>\n",
       "      <td>0</td>\n",
       "      <td>0</td>\n",
       "      <td>1</td>\n",
       "      <td>0.360389</td>\n",
       "    </tr>\n",
       "  </tbody>\n",
       "</table>\n",
       "<p>5 rows × 23 columns</p>\n",
       "</div>"
      ],
      "text/plain": [
       "           Date    High     Low   Close        Volume  Direction    SMA10  \\\n",
       "5738 2018-11-08  900.74  891.50  886.44  4.463838e+09          0  886.731   \n",
       "5739 2018-11-09  892.58  884.16  886.62  4.405451e+09          1  887.815   \n",
       "5740 2018-11-12  892.64  885.44  875.43  3.591581e+09          0  888.473   \n",
       "5741 2018-11-13  887.95  875.17  876.30  5.126725e+09          0  887.137   \n",
       "5742 2018-11-14     NaN     NaN  872.10  3.790000e+02          0  885.851   \n",
       "\n",
       "           SMA30       SMA90       EWA10    ...     Momentum_10  Momentum_5  \\\n",
       "5738  897.993333  899.857444  888.206148    ...           23.64       -2.58   \n",
       "5739  896.143667  899.834778  887.917757    ...           10.84       -6.97   \n",
       "5740  893.839333  899.571444  885.647256    ...            6.58      -15.48   \n",
       "5741  891.706000  899.407667  883.947755    ...          -13.36      -19.31   \n",
       "5742  889.777667  899.264444  881.793618    ...          -12.86      -20.39   \n",
       "\n",
       "      Momentum_2        STD  Day_Friday  Day_Monday  Day_Thursday  \\\n",
       "5738       -9.17  12.630985           0           0             1   \n",
       "5739       -5.87  12.487752           1           0             0   \n",
       "5740      -11.01  11.813649           0           1             0   \n",
       "5741      -10.32  10.976545           0           0             0   \n",
       "5742       -3.33  11.038384           0           0             0   \n",
       "\n",
       "      Day_Tuesday  Day_Wednesday    RSI_14  \n",
       "5738            0              0  0.637307  \n",
       "5739            0              0  0.501824  \n",
       "5740            0              0  0.502821  \n",
       "5741            1              0  0.360389  \n",
       "5742            0              1  0.360389  \n",
       "\n",
       "[5 rows x 23 columns]"
      ]
     },
     "execution_count": 74,
     "metadata": {},
     "output_type": "execute_result"
    }
   ],
   "source": [
    "data.tail()"
   ]
  },
  {
   "cell_type": "code",
   "execution_count": 75,
   "metadata": {},
   "outputs": [],
   "source": [
    "data.dropna(inplace=True)"
   ]
  },
  {
   "cell_type": "code",
   "execution_count": 76,
   "metadata": {},
   "outputs": [
    {
     "data": {
      "image/png": "[encoded data removed]",
      "text/plain": [
       "<Figure size 432x288 with 1 Axes>"
      ]
     },
     "metadata": {},
     "output_type": "display_data"
    }
   ],
   "source": [
    "# Visualize sanity check\n",
    "data.iloc[4000:4020].plot( y=['RSI_14', 'Momentum_10']);"
   ]
  },
  {
   "cell_type": "code",
   "execution_count": 77,
   "metadata": {},
   "outputs": [
    {
     "data": {
      "image/png": "[encoded data removed]",
      "text/plain": [
       "<Figure size 432x288 with 1 Axes>"
      ]
     },
     "metadata": {},
     "output_type": "display_data"
    }
   ],
   "source": [
    "plt.hist(data.Direction);\n",
    "plt.xlim();\n",
    "        "
   ]
  },
  {
   "cell_type": "code",
   "execution_count": 78,
   "metadata": {},
   "outputs": [],
   "source": [
    "# data.reset_index(drop=True, inplace=True)"
   ]
  },
  {
   "cell_type": "code",
   "execution_count": 79,
   "metadata": {},
   "outputs": [],
   "source": [
    "# Set index to Date\n",
    "data.set_index('Date', inplace=True)"
   ]
  },
  {
   "cell_type": "code",
   "execution_count": 80,
   "metadata": {},
   "outputs": [],
   "source": [
    "data.replace(-np.inf, np.nan, inplace=True)"
   ]
  },
  {
   "cell_type": "code",
   "execution_count": 81,
   "metadata": {},
   "outputs": [],
   "source": [
    "data.fillna(method='ffill', inplace=True)"
   ]
  },
  {
   "cell_type": "code",
   "execution_count": 82,
   "metadata": {},
   "outputs": [
    {
     "data": {
      "image/png": "[encoded data removed]",
      "text/plain": [
       "<Figure size 1440x1440 with 2 Axes>"
      ]
     },
     "metadata": {},
     "output_type": "display_data"
    }
   ],
   "source": [
    "fig, ax = plt.subplots(figsize=(20,20))\n",
    "plt.subplot(2,1,1)\n",
    "sns.heatmap(data.corr(), annot=True, fmt='.2f');"
   ]
  },
  {
   "cell_type": "code",
   "execution_count": 83,
   "metadata": {},
   "outputs": [],
   "source": [
    "# Split to target and features\n",
    "target = data.Direction\n",
    "features = data.drop([\"Direction\"], axis=1)"
   ]
  },
  {
   "cell_type": "code",
   "execution_count": 177,
   "metadata": {},
   "outputs": [],
   "source": [
    "# Normalize the data\n",
    "norm = MinMaxScaler(feature_range=(0,1))\n",
    "features = norm.fit_transform(features)"
   ]
  },
  {
   "cell_type": "code",
   "execution_count": 178,
   "metadata": {},
   "outputs": [],
   "source": [
    "X_train, X_test, y_train, y_test = train_test_split(features, target, test_size=0.30, random_state=42)"
   ]
  },
  {
   "cell_type": "code",
   "execution_count": 179,
   "metadata": {},
   "outputs": [
    {
     "data": {
      "text/plain": [
       "(4388, 21)"
      ]
     },
     "execution_count": 179,
     "metadata": {},
     "output_type": "execute_result"
    }
   ],
   "source": [
    "features.shape"
   ]
  },
  {
   "cell_type": "code",
   "execution_count": 180,
   "metadata": {},
   "outputs": [],
   "source": [
    "features_numpy = data.drop([\"Direction\"], axis=1).values\n",
    "target_numpy = data.Direction.values\n",
    "\n",
    "X_train_np, X_test_np, y_train_np, y_test_np = train_test_split(features_numpy, target_numpy, test_size=0.30, random_state=42)\n"
   ]
  },
  {
   "cell_type": "code",
   "execution_count": 40,
   "metadata": {},
   "outputs": [],
   "source": [
    "clf = SVC(probability=True)\n",
    "\n",
    "param_dist_svm = {\n",
    " 'kernel': ['linear', 'rbf', 'poly'],\n",
    " 'C' : [0.001,0.05,0.1]\n",
    "\n",
    " }\n",
    "\n",
    "svmmodel = GridSearchCV(clf, param_grid=param_dist_svm )\n",
    "svmmodel.fit(X_train, y_train);\n"
   ]
  },
  {
   "cell_type": "code",
   "execution_count": 41,
   "metadata": {},
   "outputs": [],
   "source": [
    "y_pred = svmmodel.predict_proba(X_test)\n"
   ]
  },
  {
   "cell_type": "code",
   "execution_count": 42,
   "metadata": {},
   "outputs": [],
   "source": [
    "def roc_scores (y_predict, y_test=y_test):\n",
    "    \n",
    "    # Compute for probabilities for positive outcome\n",
    "    fpr, tpr, tresholds = roc_curve(y_test, y_predict[:,1])\n",
    "    roc_auc = roc_auc_score(y_test, y_predict[:,1])\n",
    "\n",
    "    return fpr, tpr, tresholds, roc_auc\n",
    "\n",
    "def plot_roc(fpr, tpr, roc_auc, title=\"ROC\"):\n",
    "    plt.plot(fpr, tpr, label='ROC curve (area = %0.3f)' % roc_auc)\n",
    "    plt.plot([0, 1], [0, 1], 'k--')  # random predictions curve\n",
    "    plt.xlim([0.0, 1.0])\n",
    "    plt.ylim([0.0, 1.0])\n",
    "    plt.xlabel('False Positive Rate')\n",
    "    plt.ylabel('True Positive Rate')\n",
    "    plt.title(title)\n",
    "    plt.legend(loc=\"lower right\");"
   ]
  },
  {
   "cell_type": "code",
   "execution_count": 43,
   "metadata": {},
   "outputs": [
    {
     "data": {
      "image/png": "[encoded data removed]",
      "text/plain": [
       "<Figure size 432x288 with 1 Axes>"
      ]
     },
     "metadata": {},
     "output_type": "display_data"
    }
   ],
   "source": [
    "fpr, tpr, tresholds, roc_auc = roc_scores(y_pred)\n",
    "plot_roc(fpr,tpr,roc_auc, 'SVM')"
   ]
  },
  {
   "cell_type": "code",
   "execution_count": 44,
   "metadata": {},
   "outputs": [],
   "source": [
    "lr = LogisticRegression()"
   ]
  },
  {
   "cell_type": "code",
   "execution_count": 45,
   "metadata": {},
   "outputs": [
    {
     "data": {
      "text/plain": [
       "LogisticRegression(C=1.0, class_weight=None, dual=False, fit_intercept=True,\n",
       "          intercept_scaling=1, max_iter=100, multi_class='ovr', n_jobs=1,\n",
       "          penalty='l2', random_state=None, solver='liblinear', tol=0.0001,\n",
       "          verbose=0, warm_start=False)"
      ]
     },
     "execution_count": 45,
     "metadata": {},
     "output_type": "execute_result"
    }
   ],
   "source": [
    "lr.fit(X_train, y_train)"
   ]
  },
  {
   "cell_type": "code",
   "execution_count": 46,
   "metadata": {},
   "outputs": [],
   "source": [
    "y_perd_lr = lr.predict_proba(X_test)"
   ]
  },
  {
   "cell_type": "code",
   "execution_count": 47,
   "metadata": {},
   "outputs": [
    {
     "data": {
      "image/png": "[encoded data removed]",
      "text/plain": [
       "<Figure size 432x288 with 1 Axes>"
      ]
     },
     "metadata": {},
     "output_type": "display_data"
    }
   ],
   "source": [
    "fpr, tpr, tresholds, roc_auc = roc_scores(y_perd_lr)\n",
    "plot_roc(fpr,tpr,roc_auc, 'Logistic regression')"
   ]
  },
  {
   "cell_type": "code",
   "execution_count": 48,
   "metadata": {},
   "outputs": [
    {
     "name": "stdout",
     "output_type": "stream",
     "text": [
      "Fitting 5 folds for each of 20 candidates, totalling 100 fits\n"
     ]
    },
    {
     "name": "stderr",
     "output_type": "stream",
     "text": [
      "[Parallel(n_jobs=-1)]: Done   2 tasks      | elapsed:    4.0s\n"
     ]
    },
    {
     "ename": "KeyboardInterrupt",
     "evalue": "",
     "output_type": "error",
     "traceback": [
      "\u001b[1;31m---------------------------------------------------------------------------\u001b[0m",
      "\u001b[1;31mKeyboardInterrupt\u001b[0m                         Traceback (most recent call last)",
      "\u001b[1;32m<ipython-input-48-6998894a0e9b>\u001b[0m in \u001b[0;36m<module>\u001b[1;34m()\u001b[0m\n\u001b[0;32m     11\u001b[0m randommodel = RandomizedSearchCV(rf, param_distributions=param_dist1,\n\u001b[0;32m     12\u001b[0m                                    n_iter=n_iter_search, cv=5, verbose=10, n_jobs=-1)\n\u001b[1;32m---> 13\u001b[1;33m \u001b[0mrandommodel\u001b[0m\u001b[1;33m.\u001b[0m\u001b[0mfit\u001b[0m\u001b[1;33m(\u001b[0m\u001b[0mX_train\u001b[0m\u001b[1;33m,\u001b[0m \u001b[0my_train\u001b[0m\u001b[1;33m)\u001b[0m\u001b[1;33m;\u001b[0m\u001b[1;33m\u001b[0m\u001b[0m\n\u001b[0m",
      "\u001b[1;32mC:\\anaconda\\lib\\site-packages\\sklearn\\model_selection\\_search.py\u001b[0m in \u001b[0;36mfit\u001b[1;34m(self, X, y, groups, **fit_params)\u001b[0m\n\u001b[0;32m    637\u001b[0m                                   error_score=self.error_score)\n\u001b[0;32m    638\u001b[0m           for parameters, (train, test) in product(candidate_params,\n\u001b[1;32m--> 639\u001b[1;33m                                                    cv.split(X, y, groups)))\n\u001b[0m\u001b[0;32m    640\u001b[0m \u001b[1;33m\u001b[0m\u001b[0m\n\u001b[0;32m    641\u001b[0m         \u001b[1;31m# if one choose to see train score, \"out\" will contain train score info\u001b[0m\u001b[1;33m\u001b[0m\u001b[1;33m\u001b[0m\u001b[0m\n",
      "\u001b[1;32mC:\\anaconda\\lib\\site-packages\\sklearn\\externals\\joblib\\parallel.py\u001b[0m in \u001b[0;36m__call__\u001b[1;34m(self, iterable)\u001b[0m\n\u001b[0;32m    787\u001b[0m                 \u001b[1;31m# consumption.\u001b[0m\u001b[1;33m\u001b[0m\u001b[1;33m\u001b[0m\u001b[0m\n\u001b[0;32m    788\u001b[0m                 \u001b[0mself\u001b[0m\u001b[1;33m.\u001b[0m\u001b[0m_iterating\u001b[0m \u001b[1;33m=\u001b[0m \u001b[1;32mFalse\u001b[0m\u001b[1;33m\u001b[0m\u001b[0m\n\u001b[1;32m--> 789\u001b[1;33m             \u001b[0mself\u001b[0m\u001b[1;33m.\u001b[0m\u001b[0mretrieve\u001b[0m\u001b[1;33m(\u001b[0m\u001b[1;33m)\u001b[0m\u001b[1;33m\u001b[0m\u001b[0m\n\u001b[0m\u001b[0;32m    790\u001b[0m             \u001b[1;31m# Make sure that we get a last message telling us we are done\u001b[0m\u001b[1;33m\u001b[0m\u001b[1;33m\u001b[0m\u001b[0m\n\u001b[0;32m    791\u001b[0m             \u001b[0melapsed_time\u001b[0m \u001b[1;33m=\u001b[0m \u001b[0mtime\u001b[0m\u001b[1;33m.\u001b[0m\u001b[0mtime\u001b[0m\u001b[1;33m(\u001b[0m\u001b[1;33m)\u001b[0m \u001b[1;33m-\u001b[0m \u001b[0mself\u001b[0m\u001b[1;33m.\u001b[0m\u001b[0m_start_time\u001b[0m\u001b[1;33m\u001b[0m\u001b[0m\n",
      "\u001b[1;32mC:\\anaconda\\lib\\site-packages\\sklearn\\externals\\joblib\\parallel.py\u001b[0m in \u001b[0;36mretrieve\u001b[1;34m(self)\u001b[0m\n\u001b[0;32m    697\u001b[0m             \u001b[1;32mtry\u001b[0m\u001b[1;33m:\u001b[0m\u001b[1;33m\u001b[0m\u001b[0m\n\u001b[0;32m    698\u001b[0m                 \u001b[1;32mif\u001b[0m \u001b[0mgetattr\u001b[0m\u001b[1;33m(\u001b[0m\u001b[0mself\u001b[0m\u001b[1;33m.\u001b[0m\u001b[0m_backend\u001b[0m\u001b[1;33m,\u001b[0m \u001b[1;34m'supports_timeout'\u001b[0m\u001b[1;33m,\u001b[0m \u001b[1;32mFalse\u001b[0m\u001b[1;33m)\u001b[0m\u001b[1;33m:\u001b[0m\u001b[1;33m\u001b[0m\u001b[0m\n\u001b[1;32m--> 699\u001b[1;33m                     \u001b[0mself\u001b[0m\u001b[1;33m.\u001b[0m\u001b[0m_output\u001b[0m\u001b[1;33m.\u001b[0m\u001b[0mextend\u001b[0m\u001b[1;33m(\u001b[0m\u001b[0mjob\u001b[0m\u001b[1;33m.\u001b[0m\u001b[0mget\u001b[0m\u001b[1;33m(\u001b[0m\u001b[0mtimeout\u001b[0m\u001b[1;33m=\u001b[0m\u001b[0mself\u001b[0m\u001b[1;33m.\u001b[0m\u001b[0mtimeout\u001b[0m\u001b[1;33m)\u001b[0m\u001b[1;33m)\u001b[0m\u001b[1;33m\u001b[0m\u001b[0m\n\u001b[0m\u001b[0;32m    700\u001b[0m                 \u001b[1;32melse\u001b[0m\u001b[1;33m:\u001b[0m\u001b[1;33m\u001b[0m\u001b[0m\n\u001b[0;32m    701\u001b[0m                     \u001b[0mself\u001b[0m\u001b[1;33m.\u001b[0m\u001b[0m_output\u001b[0m\u001b[1;33m.\u001b[0m\u001b[0mextend\u001b[0m\u001b[1;33m(\u001b[0m\u001b[0mjob\u001b[0m\u001b[1;33m.\u001b[0m\u001b[0mget\u001b[0m\u001b[1;33m(\u001b[0m\u001b[1;33m)\u001b[0m\u001b[1;33m)\u001b[0m\u001b[1;33m\u001b[0m\u001b[0m\n",
      "\u001b[1;32mC:\\anaconda\\lib\\multiprocessing\\pool.py\u001b[0m in \u001b[0;36mget\u001b[1;34m(self, timeout)\u001b[0m\n\u001b[0;32m    636\u001b[0m \u001b[1;33m\u001b[0m\u001b[0m\n\u001b[0;32m    637\u001b[0m     \u001b[1;32mdef\u001b[0m \u001b[0mget\u001b[0m\u001b[1;33m(\u001b[0m\u001b[0mself\u001b[0m\u001b[1;33m,\u001b[0m \u001b[0mtimeout\u001b[0m\u001b[1;33m=\u001b[0m\u001b[1;32mNone\u001b[0m\u001b[1;33m)\u001b[0m\u001b[1;33m:\u001b[0m\u001b[1;33m\u001b[0m\u001b[0m\n\u001b[1;32m--> 638\u001b[1;33m         \u001b[0mself\u001b[0m\u001b[1;33m.\u001b[0m\u001b[0mwait\u001b[0m\u001b[1;33m(\u001b[0m\u001b[0mtimeout\u001b[0m\u001b[1;33m)\u001b[0m\u001b[1;33m\u001b[0m\u001b[0m\n\u001b[0m\u001b[0;32m    639\u001b[0m         \u001b[1;32mif\u001b[0m \u001b[1;32mnot\u001b[0m \u001b[0mself\u001b[0m\u001b[1;33m.\u001b[0m\u001b[0mready\u001b[0m\u001b[1;33m(\u001b[0m\u001b[1;33m)\u001b[0m\u001b[1;33m:\u001b[0m\u001b[1;33m\u001b[0m\u001b[0m\n\u001b[0;32m    640\u001b[0m             \u001b[1;32mraise\u001b[0m \u001b[0mTimeoutError\u001b[0m\u001b[1;33m\u001b[0m\u001b[0m\n",
      "\u001b[1;32mC:\\anaconda\\lib\\multiprocessing\\pool.py\u001b[0m in \u001b[0;36mwait\u001b[1;34m(self, timeout)\u001b[0m\n\u001b[0;32m    633\u001b[0m \u001b[1;33m\u001b[0m\u001b[0m\n\u001b[0;32m    634\u001b[0m     \u001b[1;32mdef\u001b[0m \u001b[0mwait\u001b[0m\u001b[1;33m(\u001b[0m\u001b[0mself\u001b[0m\u001b[1;33m,\u001b[0m \u001b[0mtimeout\u001b[0m\u001b[1;33m=\u001b[0m\u001b[1;32mNone\u001b[0m\u001b[1;33m)\u001b[0m\u001b[1;33m:\u001b[0m\u001b[1;33m\u001b[0m\u001b[0m\n\u001b[1;32m--> 635\u001b[1;33m         \u001b[0mself\u001b[0m\u001b[1;33m.\u001b[0m\u001b[0m_event\u001b[0m\u001b[1;33m.\u001b[0m\u001b[0mwait\u001b[0m\u001b[1;33m(\u001b[0m\u001b[0mtimeout\u001b[0m\u001b[1;33m)\u001b[0m\u001b[1;33m\u001b[0m\u001b[0m\n\u001b[0m\u001b[0;32m    636\u001b[0m \u001b[1;33m\u001b[0m\u001b[0m\n\u001b[0;32m    637\u001b[0m     \u001b[1;32mdef\u001b[0m \u001b[0mget\u001b[0m\u001b[1;33m(\u001b[0m\u001b[0mself\u001b[0m\u001b[1;33m,\u001b[0m \u001b[0mtimeout\u001b[0m\u001b[1;33m=\u001b[0m\u001b[1;32mNone\u001b[0m\u001b[1;33m)\u001b[0m\u001b[1;33m:\u001b[0m\u001b[1;33m\u001b[0m\u001b[0m\n",
      "\u001b[1;32mC:\\anaconda\\lib\\threading.py\u001b[0m in \u001b[0;36mwait\u001b[1;34m(self, timeout)\u001b[0m\n\u001b[0;32m    549\u001b[0m             \u001b[0msignaled\u001b[0m \u001b[1;33m=\u001b[0m \u001b[0mself\u001b[0m\u001b[1;33m.\u001b[0m\u001b[0m_flag\u001b[0m\u001b[1;33m\u001b[0m\u001b[0m\n\u001b[0;32m    550\u001b[0m             \u001b[1;32mif\u001b[0m \u001b[1;32mnot\u001b[0m \u001b[0msignaled\u001b[0m\u001b[1;33m:\u001b[0m\u001b[1;33m\u001b[0m\u001b[0m\n\u001b[1;32m--> 551\u001b[1;33m                 \u001b[0msignaled\u001b[0m \u001b[1;33m=\u001b[0m \u001b[0mself\u001b[0m\u001b[1;33m.\u001b[0m\u001b[0m_cond\u001b[0m\u001b[1;33m.\u001b[0m\u001b[0mwait\u001b[0m\u001b[1;33m(\u001b[0m\u001b[0mtimeout\u001b[0m\u001b[1;33m)\u001b[0m\u001b[1;33m\u001b[0m\u001b[0m\n\u001b[0m\u001b[0;32m    552\u001b[0m             \u001b[1;32mreturn\u001b[0m \u001b[0msignaled\u001b[0m\u001b[1;33m\u001b[0m\u001b[0m\n\u001b[0;32m    553\u001b[0m \u001b[1;33m\u001b[0m\u001b[0m\n",
      "\u001b[1;32mC:\\anaconda\\lib\\threading.py\u001b[0m in \u001b[0;36mwait\u001b[1;34m(self, timeout)\u001b[0m\n\u001b[0;32m    293\u001b[0m         \u001b[1;32mtry\u001b[0m\u001b[1;33m:\u001b[0m    \u001b[1;31m# restore state no matter what (e.g., KeyboardInterrupt)\u001b[0m\u001b[1;33m\u001b[0m\u001b[0m\n\u001b[0;32m    294\u001b[0m             \u001b[1;32mif\u001b[0m \u001b[0mtimeout\u001b[0m \u001b[1;32mis\u001b[0m \u001b[1;32mNone\u001b[0m\u001b[1;33m:\u001b[0m\u001b[1;33m\u001b[0m\u001b[0m\n\u001b[1;32m--> 295\u001b[1;33m                 \u001b[0mwaiter\u001b[0m\u001b[1;33m.\u001b[0m\u001b[0macquire\u001b[0m\u001b[1;33m(\u001b[0m\u001b[1;33m)\u001b[0m\u001b[1;33m\u001b[0m\u001b[0m\n\u001b[0m\u001b[0;32m    296\u001b[0m                 \u001b[0mgotit\u001b[0m \u001b[1;33m=\u001b[0m \u001b[1;32mTrue\u001b[0m\u001b[1;33m\u001b[0m\u001b[0m\n\u001b[0;32m    297\u001b[0m             \u001b[1;32melse\u001b[0m\u001b[1;33m:\u001b[0m\u001b[1;33m\u001b[0m\u001b[0m\n",
      "\u001b[1;31mKeyboardInterrupt\u001b[0m: "
     ]
    }
   ],
   "source": [
    "rf = RandomForestClassifier()\n",
    "\n",
    "# specify parameters and distributions to sample from\n",
    "param_dist1 = {\"max_depth\": [5,10,15,20],\n",
    "              \"n_estimators\" : [100, 1000, 10000],\n",
    "              \"min_samples_split\": [3,5,10,15,20],\n",
    "              \"bootstrap\": [True, False],\n",
    "              \"min_samples_leaf\" : [3,5,10,15,20]\n",
    "                            }\n",
    "n_iter_search = 20\n",
    "randommodel = RandomizedSearchCV(rf, param_distributions=param_dist1,\n",
    "                                   n_iter=n_iter_search, cv=5, verbose=10, n_jobs=-1)\n",
    "randommodel.fit(X_train, y_train);"
   ]
  },
  {
   "cell_type": "code",
   "execution_count": null,
   "metadata": {},
   "outputs": [],
   "source": [
    "rf_pred = randommodel.predict_proba(X_test)"
   ]
  },
  {
   "cell_type": "code",
   "execution_count": null,
   "metadata": {},
   "outputs": [],
   "source": [
    "fpr, tpr, tresholds, roc_auc = roc_scores(rf_pred)\n",
    "plot_roc(fpr,tpr,roc_auc, 'Random Forest')"
   ]
  },
  {
   "cell_type": "markdown",
   "metadata": {},
   "source": [
    "## Recurrent neural network"
   ]
  },
  {
   "cell_type": "code",
   "execution_count": 88,
   "metadata": {},
   "outputs": [],
   "source": [
    "# Data from numpy\n",
    "featuresTrain = torch.from_numpy(X_train_np).float()\n",
    "targetsTrain = torch.from_numpy(y_train_np).float()\n",
    "\n",
    "featuresTest = torch.from_numpy(X_test_np).float()\n",
    "targetsTest = torch.from_numpy(y_test_np).float()"
   ]
  },
  {
   "cell_type": "code",
   "execution_count": 89,
   "metadata": {},
   "outputs": [],
   "source": [
    "# Pytorch train and test sets\n",
    "train = torch.utils.data.TensorDataset(featuresTrain,targetsTrain)\n",
    "test = torch.utils.data.TensorDataset(featuresTest,targetsTest)\n",
    "\n",
    "# Data loader\n",
    "trainloader = torch.utils.data.DataLoader(train, batch_size = 32, shuffle = False)\n",
    "testloader = torch.utils.data.DataLoader(test, batch_size = 32, shuffle = False)"
   ]
  },
  {
   "cell_type": "code",
   "execution_count": 229,
   "metadata": {},
   "outputs": [],
   "source": [
    "class SimpleRNN(nn.Module):\n",
    "    def __init__(self, hidden_size):\n",
    "        super(SimpleRNN, self).__init__()\n",
    "        self.hidden_size = hidden_size\n",
    "\n",
    "        self.inp = nn.Linear(21, hidden_size)\n",
    "        self.rnn = nn.LSTM(hidden_size, hidden_size, 2, dropout=0.05)\n",
    "        \n",
    "        self.out = nn.Linear(hidden_size, 1)\n",
    "        self.softmax = nn.LogSoftmax(dim=1)\n",
    "        \n",
    "\n",
    "    def step(self, input, hidden=None):\n",
    "        input = self.inp(input.view(1, -1)).unsqueeze(1)\n",
    "        output, hidden = self.rnn(input, hidden)\n",
    "        \n",
    "        output = self.out(output.squeeze(1))\n",
    "        output = self.softmax(output)\n",
    "        return output, hidden\n",
    "\n",
    "    def forward(self, inputs, hidden=None, force=True, steps=0):\n",
    "        if force or steps == 0: steps = len(inputs)\n",
    "        outputs = Variable(torch.zeros(steps, 1, 1))\n",
    "        for i in range(steps):\n",
    "            if force or i == 0:\n",
    "                input = torch.tanh(inputs[i])\n",
    "            else:\n",
    "                input = torch.tanh(output)\n",
    "            output, hidden = self.step(input, hidden)\n",
    "            outputs[i] = output\n",
    "        return outputs, hidden\n",
    "    \n"
   ]
  },
  {
   "cell_type": "code",
   "execution_count": 230,
   "metadata": {},
   "outputs": [],
   "source": [
    "def check_perfomance(loader, model, criterion, device, optimizer):\n",
    "    \"\"\"\n",
    "    Validation function, takes dataloader, model, criterion, device and optimizer as \n",
    "    arguments and returns test_loss and accuracy\n",
    "    \"\"\"\n",
    "    test_loss = 0\n",
    "    accuracy = 0\n",
    "    loss_list = []\n",
    "    iteration_list = []\n",
    "    accuracy_list = []\n",
    "    total = 0\n",
    "    correct = 0\n",
    "    model.eval()\n",
    "    # Loop over images and labels in dataloader\n",
    "    for features, labels in loader:\n",
    "        features = features.to(device)\n",
    "        labels = labels.to(device)\n",
    "        optimizer.zero_grad()\n",
    "       \n",
    "        # Calculate loss\n",
    "        output = model.forward(features)\n",
    "        test_loss += criterion(torch.squeeze(output[0]), labels).item()\n",
    "        \n",
    "#         # Accuracy\n",
    "#         ps = torch.exp(output[0])\n",
    "#         ps = ps.float()\n",
    "#         equality = (labels.data == ps.max(dim=1)[1])\n",
    "#         accuracy += equality.type(torch.FloatTensor).mean()\n",
    "\n",
    "#         # Get predictions from the maximum value\n",
    "#         predicted = torch.max(output[0].data, 1)[1]\n",
    "#         predicted = predicted.float()\n",
    "        \n",
    "#         # Total number of labels\n",
    "#         total += labels.size(0)\n",
    "\n",
    "#         correct += (predicted == labels).sum()\n",
    "        \n",
    "#         accuracy = 100 * correct / 4400\n",
    "# #         print(\"acc\", accuracy)\n",
    "        \n",
    "        \n",
    "    return test_loss, accuracy"
   ]
  },
  {
   "cell_type": "code",
   "execution_count": 233,
   "metadata": {},
   "outputs": [],
   "source": [
    "def train_model(optimizer, criterion, model, epochs=1):\n",
    "#     device = torch.device(\"cuda:0\" if torch.cuda.is_available else 'cpu')\n",
    "    device = 'cpu'\n",
    "    model.to(device)\n",
    "    steps = 0\n",
    "    print_every = 100\n",
    "    running_loss = 0\n",
    "    \n",
    "\n",
    "    for epoch in range(epochs):\n",
    "        model.train()\n",
    "\n",
    "        for features, label in trainloader:\n",
    "            \n",
    "            features.to(device)\n",
    "            label.to(device)\n",
    "            \n",
    "            optimizer.zero_grad()\n",
    "            \n",
    "            output = model.forward(features)\n",
    "            \n",
    "            loss = criterion(torch.squeeze(output[0]), label)\n",
    "            \n",
    "            loss.backward()\n",
    "            optimizer.step()\n",
    "            \n",
    "            running_loss += loss.item()\n",
    "\n",
    "            \n",
    "            if steps % print_every == 0:\n",
    "             \n",
    "                with torch.no_grad():\n",
    "                                                          \n",
    "                    test_loss, accuracy = check_perfomance(testloader, model, criterion, device, optimizer)\n",
    "                                \n",
    "                print(\"Epoch: {}/{}... \".format(epoch+1, epochs),\n",
    "                      \"Loss: {:.4f}\".format(running_loss/print_every),\n",
    "                      \"Device : {}..\".format(device),\n",
    "                      \"Test_loss : {}..\".format(test_loss/len(testloader)),\n",
    "                      \"Test_Accuracy : {}..\".format(accuracy/len(testloader)))\n",
    "                             \n",
    "                running_loss = 0\n",
    "                model.train()\n",
    "            \n",
    "    return model\n"
   ]
  },
  {
   "cell_type": "code",
   "execution_count": null,
   "metadata": {},
   "outputs": [],
   "source": [
    "hidden_size = 100\n",
    "model = SimpleRNN(hidden_size)\n",
    "criterion = nn.MSELoss()\n",
    "optimizer = optim.SGD(model.parameters(), lr=0.01)\n",
    "\n",
    "final_model = train_model(optimizer, criterion, model)\n",
    "\n"
   ]
  },
  {
   "cell_type": "code",
   "execution_count": null,
   "metadata": {},
   "outputs": [],
   "source": [
    "def accuracy_test(model):    \n",
    "    correct = 0\n",
    "    total = 0\n",
    "#     model.to('cuda:0')\n",
    "    model.eval()\n",
    "    with torch.no_grad():\n",
    "        for inp, labels in testloader:\n",
    "#             inp, labels = images.to('cuda:0'), labels.to('cuda:0')\n",
    "            outputs = model(inp)\n",
    "            \n",
    "            _, predicted = torch.max(outputs[0], 1)\n",
    "            predicted = predicted.float()\n",
    "            print(predicted)\n",
    "            total += labels.size(0)\n",
    "            correct += (predicted == labels).sum()\n",
    "#             print(labels, predicted)\n",
    "            \n",
    "\n",
    "    print('Accuracy of the network on the test images: {} %'.format(100 * correct / total))\n",
    "    \n",
    "accuracy_test(final_model)"
   ]
  },
  {
   "cell_type": "markdown",
   "metadata": {},
   "source": [
    "## Keras"
   ]
  },
  {
   "cell_type": "code",
   "execution_count": 398,
   "metadata": {},
   "outputs": [],
   "source": [
    "class Model(torch.nn.Module):\n",
    "\n",
    "    def __init__(self, input_size, rnn_hidden_size, output_size):\n",
    "\n",
    "        super(Model, self).__init__()\n",
    "\n",
    "        self.rnn = torch.nn.RNN(input_size, rnn_hidden_size,\n",
    "                                num_layers=2, nonlinearity='relu',\n",
    "                                batch_first=True, dropout=0.05)\n",
    "        \n",
    "        self.h_0 = self.initialize_hidden(rnn_hidden_size)\n",
    "\n",
    "        self.linear = torch.nn.Linear(rnn_hidden_size, output_size)\n",
    "        self.softmax = nn.Sigmoid()\n",
    "\n",
    "    def forward(self, x):\n",
    "\n",
    "        x = x.unsqueeze(0)\n",
    "        self.rnn.flatten_parameters()\n",
    "        out, self.h_0 = self.rnn(x, self.h_0)\n",
    "\n",
    "        out = self.linear(out)\n",
    "        out = self.softmax(out)\n",
    "\n",
    "        # third_output = self.relu(self.linear3(second_output))\n",
    "        # fourth_output = self.relu(self.linear4(third_output))\n",
    "        # output = self.rnn(lineared_output)\n",
    "        # output = self.dropout(output)\n",
    "        return out\n",
    "\n",
    "    def initialize_hidden(self, rnn_hidden_size):\n",
    "        # n_layers * n_directions, batch_size, rnn_hidden_size\n",
    "        return Variable(torch.randn(2, 1, rnn_hidden_size),\n",
    "                        requires_grad=True)\n"
   ]
  },
  {
   "cell_type": "code",
   "execution_count": 413,
   "metadata": {},
   "outputs": [],
   "source": [
    "RNN_HIDDEN_SIZE = 32\n",
    "\n",
    "\n",
    "def train(model, input_size, hidden_size, output_size, train_loader):\n",
    "    plt.figure(1, figsize=(12, 5))\n",
    "    running_loss = 0\n",
    "\n",
    "    criterion = torch.nn.MSELoss()\n",
    "    optimizer = torch.optim.Adam(model.parameters(), lr=0.01)\n",
    "\n",
    "    epochs = 3\n",
    "\n",
    "    for epoch in range(epochs):\n",
    "        predictions = []\n",
    "        correct_values = []\n",
    "\n",
    "        for inp, label in train_loader:\n",
    "            inp, label = Variable(inp), Variable(label)\n",
    "\n",
    "            y_pred = model(inp)\n",
    "            \n",
    "#            \n",
    "            loss = criterion(y_pred[0].reshape(-1), label)\n",
    "            \n",
    "            optimizer.zero_grad()\n",
    "            loss.backward(retain_graph=True)\n",
    "            torch.nn.utils.clip_grad_norm_(model.parameters(), 0.5)\n",
    "            optimizer.step()\n",
    "            running_loss += loss.item()\n",
    "\n",
    "            predictions.append(y_pred.cpu().data.numpy().ravel())\n",
    "            correct_values.append(label.cpu().data.numpy().ravel())\n",
    "            print(\"Epoch : {}/{}, running_loss : {} \".format(epoch, epochs, running_loss))\n",
    "            running_loss = 0\n",
    "\n",
    "        def stacking_for_charting(given_list):\n",
    "            ret = np.array([0])\n",
    "            for i in given_list:\n",
    "                ret = np.hstack((ret, i.ravel()))\n",
    "            return ret[1:]\n",
    "\n",
    "        predictions_for_chart = stacking_for_charting(predictions)\n",
    "        correct_values_for_chart = stacking_for_charting(correct_values)\n",
    "\n",
    "        print(predictions_for_chart)\n",
    "\n",
    "        steps = np.linspace(epoch*predictions_for_chart.shape[0],\n",
    "                            (epoch+1)*predictions_for_chart.shape[0],\n",
    "                            predictions_for_chart.shape[0])\n",
    "        plt.plot(steps, predictions_for_chart, 'r-')\n",
    "        plt.plot(steps, correct_values_for_chart, 'b-')\n",
    "        plt.draw()\n",
    "        plt.pause(0.05)\n",
    "\n",
    "    \n",
    "    plt.show();\n",
    "    return model"
   ]
  },
  {
   "cell_type": "code",
   "execution_count": 414,
   "metadata": {},
   "outputs": [],
   "source": [
    "model = Model(input_size=21, rnn_hidden_size=32, output_size=1)"
   ]
  },
  {
   "cell_type": "code",
   "execution_count": 415,
   "metadata": {},
   "outputs": [
    {
     "name": "stdout",
     "output_type": "stream",
     "text": [
      "Epoch : 0/3, running_loss : 0.59375 \n",
      "Epoch : 0/3, running_loss : 0.65625 \n",
      "Epoch : 0/3, running_loss : 0.375 \n",
      "Epoch : 0/3, running_loss : 0.6875 \n",
      "Epoch : 0/3, running_loss : 0.4375 \n",
      "Epoch : 0/3, running_loss : 0.375 \n",
      "Epoch : 0/3, running_loss : 0.59375 \n",
      "Epoch : 0/3, running_loss : 0.625 \n",
      "Epoch : 0/3, running_loss : 0.5 \n",
      "Epoch : 0/3, running_loss : 0.5 \n",
      "Epoch : 0/3, running_loss : 0.53125 \n",
      "Epoch : 0/3, running_loss : 0.59375 \n",
      "Epoch : 0/3, running_loss : 0.53125 \n",
      "Epoch : 0/3, running_loss : 0.71875 \n",
      "Epoch : 0/3, running_loss : 0.34375 \n",
      "Epoch : 0/3, running_loss : 0.59375 \n",
      "Epoch : 0/3, running_loss : 0.5 \n",
      "Epoch : 0/3, running_loss : 0.59375 \n",
      "Epoch : 0/3, running_loss : 0.53125 \n",
      "Epoch : 0/3, running_loss : 0.4375 \n",
      "Epoch : 0/3, running_loss : 0.59375 \n",
      "Epoch : 0/3, running_loss : 0.46875 \n",
      "Epoch : 0/3, running_loss : 0.4375 \n",
      "Epoch : 0/3, running_loss : 0.40625 \n",
      "Epoch : 0/3, running_loss : 0.5625 \n",
      "Epoch : 0/3, running_loss : 0.5625 \n",
      "Epoch : 0/3, running_loss : 0.53125 \n",
      "Epoch : 0/3, running_loss : 0.53125 \n",
      "Epoch : 0/3, running_loss : 0.53125 \n",
      "Epoch : 0/3, running_loss : 0.5625 \n",
      "Epoch : 0/3, running_loss : 0.5 \n",
      "Epoch : 0/3, running_loss : 0.59375 \n",
      "Epoch : 0/3, running_loss : 0.625 \n",
      "Epoch : 0/3, running_loss : 0.53125 \n",
      "Epoch : 0/3, running_loss : 0.6875 \n",
      "Epoch : 0/3, running_loss : 0.53125 \n",
      "Epoch : 0/3, running_loss : 0.5 \n",
      "Epoch : 0/3, running_loss : 0.59375 \n",
      "Epoch : 0/3, running_loss : 0.53125 \n",
      "Epoch : 0/3, running_loss : 0.53125 \n",
      "Epoch : 0/3, running_loss : 0.59375 \n",
      "Epoch : 0/3, running_loss : 0.5 \n",
      "Epoch : 0/3, running_loss : 0.5625 \n",
      "Epoch : 0/3, running_loss : 0.5 \n",
      "Epoch : 0/3, running_loss : 0.5625 \n",
      "Epoch : 0/3, running_loss : 0.46875 \n",
      "Epoch : 0/3, running_loss : 0.625 \n",
      "Epoch : 0/3, running_loss : 0.375 \n",
      "Epoch : 0/3, running_loss : 0.59375 \n",
      "Epoch : 0/3, running_loss : 0.6875 \n",
      "Epoch : 0/3, running_loss : 0.40625 \n",
      "Epoch : 0/3, running_loss : 0.3125 \n",
      "Epoch : 0/3, running_loss : 0.5625 \n",
      "Epoch : 0/3, running_loss : 0.46875 \n",
      "Epoch : 0/3, running_loss : 0.625 \n",
      "Epoch : 0/3, running_loss : 0.53125 \n",
      "Epoch : 0/3, running_loss : 0.5 \n",
      "Epoch : 0/3, running_loss : 0.5 \n",
      "Epoch : 0/3, running_loss : 0.40625 \n",
      "Epoch : 0/3, running_loss : 0.5 \n",
      "Epoch : 0/3, running_loss : 0.59375 \n",
      "Epoch : 0/3, running_loss : 0.53125 \n",
      "Epoch : 0/3, running_loss : 0.59375 \n",
      "Epoch : 0/3, running_loss : 0.625 \n",
      "Epoch : 0/3, running_loss : 0.5625 \n",
      "Epoch : 0/3, running_loss : 0.53125 \n",
      "Epoch : 0/3, running_loss : 0.40625 \n",
      "Epoch : 0/3, running_loss : 0.5 \n",
      "Epoch : 0/3, running_loss : 0.46875 \n",
      "Epoch : 0/3, running_loss : 0.53125 \n",
      "Epoch : 0/3, running_loss : 0.4375 \n",
      "Epoch : 0/3, running_loss : 0.40625 \n",
      "Epoch : 0/3, running_loss : 0.59375 \n",
      "Epoch : 0/3, running_loss : 0.40625 \n",
      "Epoch : 0/3, running_loss : 0.5625 \n",
      "Epoch : 0/3, running_loss : 0.75 \n",
      "Epoch : 0/3, running_loss : 0.5625 \n",
      "Epoch : 0/3, running_loss : 0.5 \n",
      "Epoch : 0/3, running_loss : 0.53125 \n",
      "Epoch : 0/3, running_loss : 0.625 \n",
      "Epoch : 0/3, running_loss : 0.625 \n",
      "Epoch : 0/3, running_loss : 0.53125 \n",
      "Epoch : 0/3, running_loss : 0.46875 \n",
      "Epoch : 0/3, running_loss : 0.4375 \n",
      "Epoch : 0/3, running_loss : 0.4375 \n",
      "Epoch : 0/3, running_loss : 0.625 \n",
      "Epoch : 0/3, running_loss : 0.6875 \n",
      "Epoch : 0/3, running_loss : 0.46875 \n",
      "Epoch : 0/3, running_loss : 0.375 \n",
      "Epoch : 0/3, running_loss : 0.53125 \n",
      "Epoch : 0/3, running_loss : 0.75 \n",
      "Epoch : 0/3, running_loss : 0.65625 \n",
      "Epoch : 0/3, running_loss : 0.59375 \n",
      "Epoch : 0/3, running_loss : 0.53125 \n",
      "Epoch : 0/3, running_loss : 0.59375 \n",
      "Epoch : 0/3, running_loss : 0.6774193644523621 \n",
      "[1. 1. 1. ... 1. 1. 1.]\n"
     ]
    },
    {
     "data": {
      "image/png": "[encoded data removed]",
      "text/plain": [
       "<Figure size 864x360 with 1 Axes>"
      ]
     },
     "metadata": {},
     "output_type": "display_data"
    },
    {
     "name": "stdout",
     "output_type": "stream",
     "text": [
      "Epoch : 1/3, running_loss : 0.59375 \n",
      "Epoch : 1/3, running_loss : 0.65625 \n",
      "Epoch : 1/3, running_loss : 0.375 \n",
      "Epoch : 1/3, running_loss : 0.6875 \n",
      "Epoch : 1/3, running_loss : 0.4375 \n",
      "Epoch : 1/3, running_loss : 0.375 \n",
      "Epoch : 1/3, running_loss : 0.59375 \n",
      "Epoch : 1/3, running_loss : 0.625 \n",
      "Epoch : 1/3, running_loss : 0.5 \n",
      "Epoch : 1/3, running_loss : 0.5 \n",
      "Epoch : 1/3, running_loss : 0.53125 \n",
      "Epoch : 1/3, running_loss : 0.59375 \n",
      "Epoch : 1/3, running_loss : 0.53125 \n",
      "Epoch : 1/3, running_loss : 0.71875 \n",
      "Epoch : 1/3, running_loss : 0.34375 \n",
      "Epoch : 1/3, running_loss : 0.59375 \n",
      "Epoch : 1/3, running_loss : 0.5 \n",
      "Epoch : 1/3, running_loss : 0.59375 \n",
      "Epoch : 1/3, running_loss : 0.53125 \n",
      "Epoch : 1/3, running_loss : 0.4375 \n",
      "Epoch : 1/3, running_loss : 0.59375 \n",
      "Epoch : 1/3, running_loss : 0.46875 \n",
      "Epoch : 1/3, running_loss : 0.4375 \n",
      "Epoch : 1/3, running_loss : 0.40625 \n",
      "Epoch : 1/3, running_loss : 0.5625 \n",
      "Epoch : 1/3, running_loss : 0.5625 \n",
      "Epoch : 1/3, running_loss : 0.53125 \n",
      "Epoch : 1/3, running_loss : 0.53125 \n",
      "Epoch : 1/3, running_loss : 0.53125 \n",
      "Epoch : 1/3, running_loss : 0.5625 \n",
      "Epoch : 1/3, running_loss : 0.5 \n",
      "Epoch : 1/3, running_loss : 0.59375 \n",
      "Epoch : 1/3, running_loss : 0.625 \n",
      "Epoch : 1/3, running_loss : 0.53125 \n",
      "Epoch : 1/3, running_loss : 0.6875 \n",
      "Epoch : 1/3, running_loss : 0.53125 \n",
      "Epoch : 1/3, running_loss : 0.5 \n",
      "Epoch : 1/3, running_loss : 0.59375 \n",
      "Epoch : 1/3, running_loss : 0.53125 \n",
      "Epoch : 1/3, running_loss : 0.53125 \n",
      "Epoch : 1/3, running_loss : 0.59375 \n",
      "Epoch : 1/3, running_loss : 0.5 \n",
      "Epoch : 1/3, running_loss : 0.5625 \n",
      "Epoch : 1/3, running_loss : 0.5 \n",
      "Epoch : 1/3, running_loss : 0.5625 \n",
      "Epoch : 1/3, running_loss : 0.46875 \n",
      "Epoch : 1/3, running_loss : 0.625 \n",
      "Epoch : 1/3, running_loss : 0.375 \n",
      "Epoch : 1/3, running_loss : 0.59375 \n",
      "Epoch : 1/3, running_loss : 0.6875 \n",
      "Epoch : 1/3, running_loss : 0.40625 \n",
      "Epoch : 1/3, running_loss : 0.3125 \n",
      "Epoch : 1/3, running_loss : 0.5625 \n",
      "Epoch : 1/3, running_loss : 0.46875 \n",
      "Epoch : 1/3, running_loss : 0.625 \n",
      "Epoch : 1/3, running_loss : 0.53125 \n",
      "Epoch : 1/3, running_loss : 0.5 \n",
      "Epoch : 1/3, running_loss : 0.5 \n",
      "Epoch : 1/3, running_loss : 0.40625 \n",
      "Epoch : 1/3, running_loss : 0.5 \n",
      "Epoch : 1/3, running_loss : 0.59375 \n",
      "Epoch : 1/3, running_loss : 0.53125 \n",
      "Epoch : 1/3, running_loss : 0.59375 \n",
      "Epoch : 1/3, running_loss : 0.625 \n",
      "Epoch : 1/3, running_loss : 0.5625 \n",
      "Epoch : 1/3, running_loss : 0.53125 \n",
      "Epoch : 1/3, running_loss : 0.40625 \n",
      "Epoch : 1/3, running_loss : 0.5 \n",
      "Epoch : 1/3, running_loss : 0.46875 \n",
      "Epoch : 1/3, running_loss : 0.53125 \n",
      "Epoch : 1/3, running_loss : 0.4375 \n",
      "Epoch : 1/3, running_loss : 0.40625 \n",
      "Epoch : 1/3, running_loss : 0.59375 \n",
      "Epoch : 1/3, running_loss : 0.40625 \n",
      "Epoch : 1/3, running_loss : 0.5625 \n",
      "Epoch : 1/3, running_loss : 0.75 \n",
      "Epoch : 1/3, running_loss : 0.5625 \n",
      "Epoch : 1/3, running_loss : 0.5 \n",
      "Epoch : 1/3, running_loss : 0.53125 \n",
      "Epoch : 1/3, running_loss : 0.625 \n",
      "Epoch : 1/3, running_loss : 0.625 \n",
      "Epoch : 1/3, running_loss : 0.53125 \n",
      "Epoch : 1/3, running_loss : 0.46875 \n",
      "Epoch : 1/3, running_loss : 0.4375 \n",
      "Epoch : 1/3, running_loss : 0.4375 \n",
      "Epoch : 1/3, running_loss : 0.625 \n",
      "Epoch : 1/3, running_loss : 0.6875 \n",
      "Epoch : 1/3, running_loss : 0.46875 \n",
      "Epoch : 1/3, running_loss : 0.375 \n",
      "Epoch : 1/3, running_loss : 0.53125 \n",
      "Epoch : 1/3, running_loss : 0.75 \n",
      "Epoch : 1/3, running_loss : 0.65625 \n",
      "Epoch : 1/3, running_loss : 0.59375 \n",
      "Epoch : 1/3, running_loss : 0.53125 \n",
      "Epoch : 1/3, running_loss : 0.59375 \n",
      "Epoch : 1/3, running_loss : 0.6774193644523621 \n",
      "[1. 1. 1. ... 1. 1. 1.]\n"
     ]
    },
    {
     "data": {
      "image/png": "[encoded data removed]",
      "text/plain": [
       "<Figure size 432x288 with 1 Axes>"
      ]
     },
     "metadata": {},
     "output_type": "display_data"
    },
    {
     "name": "stdout",
     "output_type": "stream",
     "text": [
      "Epoch : 2/3, running_loss : 0.59375 \n",
      "Epoch : 2/3, running_loss : 0.65625 \n",
      "Epoch : 2/3, running_loss : 0.375 \n",
      "Epoch : 2/3, running_loss : 0.6875 \n",
      "Epoch : 2/3, running_loss : 0.4375 \n",
      "Epoch : 2/3, running_loss : 0.375 \n",
      "Epoch : 2/3, running_loss : 0.59375 \n",
      "Epoch : 2/3, running_loss : 0.625 \n",
      "Epoch : 2/3, running_loss : 0.5 \n",
      "Epoch : 2/3, running_loss : 0.5 \n",
      "Epoch : 2/3, running_loss : 0.53125 \n",
      "Epoch : 2/3, running_loss : 0.59375 \n",
      "Epoch : 2/3, running_loss : 0.53125 \n",
      "Epoch : 2/3, running_loss : 0.71875 \n",
      "Epoch : 2/3, running_loss : 0.34375 \n",
      "Epoch : 2/3, running_loss : 0.59375 \n",
      "Epoch : 2/3, running_loss : 0.5 \n",
      "Epoch : 2/3, running_loss : 0.59375 \n",
      "Epoch : 2/3, running_loss : 0.53125 \n",
      "Epoch : 2/3, running_loss : 0.4375 \n",
      "Epoch : 2/3, running_loss : 0.59375 \n",
      "Epoch : 2/3, running_loss : 0.46875 \n",
      "Epoch : 2/3, running_loss : 0.4375 \n",
      "Epoch : 2/3, running_loss : 0.40625 \n",
      "Epoch : 2/3, running_loss : 0.5625 \n",
      "Epoch : 2/3, running_loss : 0.5625 \n",
      "Epoch : 2/3, running_loss : 0.53125 \n",
      "Epoch : 2/3, running_loss : 0.53125 \n",
      "Epoch : 2/3, running_loss : 0.53125 \n",
      "Epoch : 2/3, running_loss : 0.5625 \n",
      "Epoch : 2/3, running_loss : 0.5 \n",
      "Epoch : 2/3, running_loss : 0.59375 \n",
      "Epoch : 2/3, running_loss : 0.625 \n",
      "Epoch : 2/3, running_loss : 0.53125 \n",
      "Epoch : 2/3, running_loss : 0.6875 \n",
      "Epoch : 2/3, running_loss : 0.53125 \n",
      "Epoch : 2/3, running_loss : 0.5 \n",
      "Epoch : 2/3, running_loss : 0.59375 \n",
      "Epoch : 2/3, running_loss : 0.53125 \n",
      "Epoch : 2/3, running_loss : 0.53125 \n",
      "Epoch : 2/3, running_loss : 0.59375 \n",
      "Epoch : 2/3, running_loss : 0.5 \n",
      "Epoch : 2/3, running_loss : 0.5625 \n",
      "Epoch : 2/3, running_loss : 0.5 \n",
      "Epoch : 2/3, running_loss : 0.5625 \n",
      "Epoch : 2/3, running_loss : 0.46875 \n",
      "Epoch : 2/3, running_loss : 0.625 \n",
      "Epoch : 2/3, running_loss : 0.375 \n",
      "Epoch : 2/3, running_loss : 0.59375 \n",
      "Epoch : 2/3, running_loss : 0.6875 \n",
      "Epoch : 2/3, running_loss : 0.40625 \n",
      "Epoch : 2/3, running_loss : 0.3125 \n",
      "Epoch : 2/3, running_loss : 0.5625 \n",
      "Epoch : 2/3, running_loss : 0.46875 \n",
      "Epoch : 2/3, running_loss : 0.625 \n",
      "Epoch : 2/3, running_loss : 0.53125 \n",
      "Epoch : 2/3, running_loss : 0.5 \n",
      "Epoch : 2/3, running_loss : 0.5 \n",
      "Epoch : 2/3, running_loss : 0.4375 \n",
      "Epoch : 2/3, running_loss : 0.5 \n",
      "Epoch : 2/3, running_loss : 0.59375 \n",
      "Epoch : 2/3, running_loss : 0.53125 \n",
      "Epoch : 2/3, running_loss : 0.59375 \n",
      "Epoch : 2/3, running_loss : 0.625 \n",
      "Epoch : 2/3, running_loss : 0.5625 \n",
      "Epoch : 2/3, running_loss : 0.53125 \n",
      "Epoch : 2/3, running_loss : 0.40625 \n",
      "Epoch : 2/3, running_loss : 0.5 \n",
      "Epoch : 2/3, running_loss : 0.46875 \n",
      "Epoch : 2/3, running_loss : 0.53125 \n",
      "Epoch : 2/3, running_loss : 0.4375 \n",
      "Epoch : 2/3, running_loss : 0.40625 \n",
      "Epoch : 2/3, running_loss : 0.59375 \n",
      "Epoch : 2/3, running_loss : 0.40625 \n",
      "Epoch : 2/3, running_loss : 0.5625 \n",
      "Epoch : 2/3, running_loss : 0.75 \n",
      "Epoch : 2/3, running_loss : 0.5625 \n",
      "Epoch : 2/3, running_loss : 0.5 \n",
      "Epoch : 2/3, running_loss : 0.53125 \n",
      "Epoch : 2/3, running_loss : 0.625 \n",
      "Epoch : 2/3, running_loss : 0.625 \n",
      "Epoch : 2/3, running_loss : 0.53125 \n",
      "Epoch : 2/3, running_loss : 0.46875 \n",
      "Epoch : 2/3, running_loss : 0.4375 \n",
      "Epoch : 2/3, running_loss : 0.4375 \n",
      "Epoch : 2/3, running_loss : 0.625 \n",
      "Epoch : 2/3, running_loss : 0.6875 \n",
      "Epoch : 2/3, running_loss : 0.46875 \n",
      "Epoch : 2/3, running_loss : 0.375 \n",
      "Epoch : 2/3, running_loss : 0.53125 \n",
      "Epoch : 2/3, running_loss : 0.75 \n",
      "Epoch : 2/3, running_loss : 0.65625 \n",
      "Epoch : 2/3, running_loss : 0.59375 \n",
      "Epoch : 2/3, running_loss : 0.53125 \n",
      "Epoch : 2/3, running_loss : 0.59375 \n",
      "Epoch : 2/3, running_loss : 0.6774193644523621 \n",
      "[1. 1. 1. ... 1. 1. 1.]\n"
     ]
    },
    {
     "data": {
      "image/png": "[encoded data removed]",
      "text/plain": [
       "<Figure size 432x288 with 1 Axes>"
      ]
     },
     "metadata": {},
     "output_type": "display_data"
    }
   ],
   "source": [
    "criterion = nn.MSELoss()\n",
    "optimizer = optim.SGD(model.parameters(), lr=0.01)\n",
    "\n",
    "trained = train(model, 21,100,1, trainloader)"
   ]
  },
  {
   "cell_type": "code",
   "execution_count": 417,
   "metadata": {},
   "outputs": [
    {
     "data": {
      "text/plain": [
       "Model(\n",
       "  (rnn): RNN(21, 32, num_layers=2, batch_first=True, dropout=0.05)\n",
       "  (linear): Linear(in_features=32, out_features=1, bias=True)\n",
       "  (softmax): Sigmoid()\n",
       ")"
      ]
     },
     "execution_count": 417,
     "metadata": {},
     "output_type": "execute_result"
    }
   ],
   "source": [
    "trained"
   ]
  },
  {
   "cell_type": "code",
   "execution_count": 416,
   "metadata": {},
   "outputs": [
    {
     "name": "stdout",
     "output_type": "stream",
     "text": [
      "tensor([0., 0., 0., 0., 0., 0., 0., 0., 0., 0., 0., 0., 0., 0., 0., 0., 0., 0.,\n",
      "        0., 0., 0., 0., 0., 0., 0., 0., 0., 0., 0., 0., 0., 0.])\n",
      "tensor([0., 0., 0., 0., 0., 0., 0., 0., 0., 0., 0., 0., 0., 0., 0., 0., 0., 0.,\n",
      "        0., 0., 0., 0., 0., 0., 0., 0., 0., 0., 0., 0., 0., 0.])\n",
      "tensor([0., 0., 0., 0., 0., 0., 0., 0., 0., 0., 0., 0., 0., 0., 0., 0., 0., 0.,\n",
      "        0., 0., 0., 0., 0., 0., 0., 0., 0., 0., 0., 0., 0., 0.])\n",
      "tensor([0., 0., 0., 0., 0., 0., 0., 0., 0., 0., 0., 0., 0., 0., 0., 0., 0., 0.,\n",
      "        0., 0., 0., 0., 0., 0., 0., 0., 0., 0., 0., 0., 0., 0.])\n",
      "tensor([0., 0., 0., 0., 0., 0., 0., 0., 0., 0., 0., 0., 0., 0., 0., 0., 0., 0.,\n",
      "        0., 0., 0., 0., 0., 0., 0., 0., 0., 0., 0., 0., 0., 0.])\n",
      "tensor([0., 0., 0., 0., 0., 0., 0., 0., 0., 0., 0., 0., 0., 0., 0., 0., 0., 0.,\n",
      "        0., 0., 0., 0., 0., 0., 0., 0., 0., 0., 0., 0., 0., 0.])\n",
      "tensor([0., 0., 0., 0., 0., 0., 0., 0., 0., 0., 0., 0., 0., 0., 0., 0., 0., 0.,\n",
      "        0., 0., 0., 0., 0., 0., 0., 0., 0., 0., 0., 0., 0., 0.])\n",
      "tensor([0., 0., 0., 0., 0., 0., 0., 0., 0., 0., 0., 0., 0., 0., 0., 0., 0., 0.,\n",
      "        0., 0., 0., 0., 0., 0., 0., 0., 0., 0., 0., 0., 0., 0.])\n",
      "tensor([0., 0., 0., 0., 0., 0., 0., 0., 0., 0., 0., 0., 0., 0., 0., 0., 0., 0.,\n",
      "        0., 0., 0., 0., 0., 0., 0., 0., 0., 0., 0., 0., 0., 0.])\n",
      "tensor([0., 0., 0., 0., 0., 0., 0., 0., 0., 0., 0., 0., 0., 0., 0., 0., 0., 0.,\n",
      "        0., 0., 0., 0., 0., 0., 0., 0., 0., 0., 0., 0., 0., 0.])\n",
      "tensor([0., 0., 0., 0., 0., 0., 0., 0., 0., 0., 0., 0., 0., 0., 0., 0., 0., 0.,\n",
      "        0., 0., 0., 0., 0., 0., 0., 0., 0., 0., 0., 0., 0., 0.])\n",
      "tensor([0., 0., 0., 0., 0., 0., 0., 0., 0., 0., 0., 0., 0., 0., 0., 0., 0., 0.,\n",
      "        0., 0., 0., 0., 0., 0., 0., 0., 0., 0., 0., 0., 0., 0.])\n",
      "tensor([0., 0., 0., 0., 0., 0., 0., 0., 0., 0., 0., 0., 0., 0., 0., 0., 0., 0.,\n",
      "        0., 0., 0., 0., 0., 0., 0., 0., 0., 0., 0., 0., 0., 0.])\n",
      "tensor([0., 0., 0., 0., 0., 0., 0., 0., 0., 0., 0., 0., 0., 0., 0., 0., 0., 0.,\n",
      "        0., 0., 0., 0., 0., 0., 0., 0., 0., 0., 0., 0., 0., 0.])\n",
      "tensor([0., 0., 0., 0., 0., 0., 0., 0., 0., 0., 0., 0., 0., 0., 0., 0., 0., 0.,\n",
      "        0., 0., 0., 0., 0., 0., 0., 0., 0., 0., 0., 0., 0., 0.])\n",
      "tensor([0., 0., 0., 0., 0., 0., 0., 0., 0., 0., 0., 0., 0., 0., 0., 0., 0., 0.,\n",
      "        0., 0., 0., 0., 0., 0., 0., 0., 0., 0., 0., 0., 0., 0.])\n",
      "tensor([0., 0., 0., 0., 0., 0., 0., 0., 0., 0., 0., 0., 0., 0., 0., 0., 0., 0.,\n",
      "        0., 0., 0., 0., 0., 0., 0., 0., 0., 0., 0., 0., 0., 0.])\n",
      "tensor([0., 0., 0., 0., 0., 0., 0., 0., 0., 0., 0., 0., 0., 0., 0., 0., 0., 0.,\n",
      "        0., 0., 0., 0., 0., 0., 0., 0., 0., 0., 0., 0., 0., 0.])\n",
      "tensor([0., 0., 0., 0., 0., 0., 0., 0., 0., 0., 0., 0., 0., 0., 0., 0., 0., 0.,\n",
      "        0., 0., 0., 0., 0., 0., 0., 0., 0., 0., 0., 0., 0., 0.])\n",
      "tensor([0., 0., 0., 0., 0., 0., 0., 0., 0., 0., 0., 0., 0., 0., 0., 0., 0., 0.,\n",
      "        0., 0., 0., 0., 0., 0., 0., 0., 0., 0., 0., 0., 0., 0.])\n",
      "tensor([0., 0., 0., 0., 0., 0., 0., 0., 0., 0., 0., 0., 0., 0., 0., 0., 0., 0.,\n",
      "        0., 0., 0., 0., 0., 0., 0., 0., 0., 0., 0., 0., 0., 0.])\n",
      "tensor([0., 0., 0., 0., 0., 0., 0., 0., 0., 0., 0., 0., 0., 0., 0., 0., 0., 0.,\n",
      "        0., 0., 0., 0., 0., 0., 0., 0., 0., 0., 0., 0., 0., 0.])\n",
      "tensor([0., 0., 0., 0., 0., 0., 0., 0., 0., 0., 0., 0., 0., 0., 0., 0., 0., 0.,\n",
      "        0., 0., 0., 0., 0., 0., 0., 0., 0., 0., 0., 0., 0., 0.])\n",
      "tensor([0., 0., 0., 0., 0., 0., 0., 0., 0., 0., 0., 0., 0., 0., 0., 0., 0., 0.,\n",
      "        0., 0., 0., 0., 0., 0., 0., 0., 0., 0., 0., 0., 0., 0.])\n",
      "tensor([0., 0., 0., 0., 0., 0., 0., 0., 0., 0., 0., 0., 0., 0., 0., 0., 0., 0.,\n",
      "        0., 0., 0., 0., 0., 0., 0., 0., 0., 0., 0., 0., 0., 0.])\n",
      "tensor([0., 0., 0., 0., 0., 0., 0., 0., 0., 0., 0., 0., 0., 0., 0., 0., 0., 0.,\n",
      "        0., 0., 0., 0., 0., 0., 0., 0., 0., 0., 0., 0., 0., 0.])\n",
      "tensor([0., 0., 0., 0., 0., 0., 0., 0., 0., 0., 0., 0., 0., 0., 0., 0., 0., 0.,\n",
      "        0., 0., 0., 0., 0., 0., 0., 0., 0., 0., 0., 0., 0., 0.])\n",
      "tensor([0., 0., 0., 0., 0., 0., 0., 0., 0., 0., 0., 0., 0., 0., 0., 0., 0., 0.,\n",
      "        0., 0., 0., 0., 0., 0., 0., 0., 0., 0., 0., 0., 0., 0.])\n",
      "tensor([0., 0., 0., 0., 0., 0., 0., 0., 0., 0., 0., 0., 0., 0., 0., 0., 0., 0.,\n",
      "        0., 0., 0., 0., 0., 0., 0., 0., 0., 0., 0., 0., 0., 0.])\n",
      "tensor([0., 0., 0., 0., 0., 0., 0., 0., 0., 0., 0., 0., 0., 0., 0., 0., 0., 0.,\n",
      "        0., 0., 0., 0., 0., 0., 0., 0., 0., 0., 0., 0., 0., 0.])\n",
      "tensor([0., 0., 0., 0., 0., 0., 0., 0., 0., 0., 0., 0., 0., 0., 0., 0., 0., 0.,\n",
      "        0., 0., 0., 0., 0., 0., 0., 0., 0., 0., 0., 0., 0., 0.])\n",
      "tensor([0., 0., 0., 0., 0., 0., 0., 0., 0., 0., 0., 0., 0., 0., 0., 0., 0., 0.,\n",
      "        0., 0., 0., 0., 0., 0., 0., 0., 0., 0., 0., 0., 0., 0.])\n",
      "tensor([0., 0., 0., 0., 0., 0., 0., 0., 0., 0., 0., 0., 0., 0., 0., 0., 0., 0.,\n",
      "        0., 0., 0., 0., 0., 0., 0., 0., 0., 0., 0., 0., 0., 0.])\n",
      "tensor([0., 0., 0., 0., 0., 0., 0., 0., 0., 0., 0., 0., 0., 0., 0., 0., 0., 0.,\n",
      "        0., 0., 0., 0., 0., 0., 0., 0., 0., 0., 0., 0., 0., 0.])\n",
      "tensor([0., 0., 0., 0., 0., 0., 0., 0., 0., 0., 0., 0., 0., 0., 0., 0., 0., 0.,\n",
      "        0., 0., 0., 0., 0., 0., 0., 0., 0., 0., 0., 0., 0., 0.])\n",
      "tensor([0., 0., 0., 0., 0., 0., 0., 0., 0., 0., 0., 0., 0., 0., 0., 0., 0., 0.,\n",
      "        0., 0., 0., 0., 0., 0., 0., 0., 0., 0., 0., 0., 0., 0.])\n",
      "tensor([0., 0., 0., 0., 0., 0., 0., 0., 0., 0., 0., 0., 0., 0., 0., 0., 0., 0.,\n",
      "        0., 0., 0., 0., 0., 0., 0., 0., 0., 0., 0., 0., 0., 0.])\n",
      "tensor([0., 0., 0., 0., 0., 0., 0., 0., 0., 0., 0., 0., 0., 0., 0., 0., 0., 0.,\n",
      "        0., 0., 0., 0., 0., 0., 0., 0., 0., 0., 0., 0., 0., 0.])\n",
      "tensor([0., 0., 0., 0., 0., 0., 0., 0., 0., 0., 0., 0., 0., 0., 0., 0., 0., 0.,\n",
      "        0., 0., 0., 0., 0., 0., 0., 0., 0., 0., 0., 0., 0., 0.])\n",
      "tensor([0., 0., 0., 0., 0., 0., 0., 0., 0., 0., 0., 0., 0., 0., 0., 0., 0., 0.,\n",
      "        0., 0., 0., 0., 0., 0., 0., 0., 0., 0., 0., 0., 0., 0.])\n",
      "tensor([0., 0., 0., 0., 0., 0., 0., 0., 0., 0., 0., 0., 0., 0., 0., 0., 0., 0.,\n",
      "        0., 0., 0., 0., 0., 0., 0., 0., 0., 0., 0., 0., 0., 0.])\n",
      "tensor([0., 0., 0., 0., 0.])\n",
      "Accuracy of the network on the test images: 55 %\n"
     ]
    }
   ],
   "source": [
    "accuracy_test(trained)"
   ]
  },
  {
   "cell_type": "code",
   "execution_count": null,
   "metadata": {},
   "outputs": [],
   "source": []
  }
 ],
 "metadata": {
  "kernelspec": {
   "display_name": "Python [default]",
   "language": "python",
   "name": "python3"
  },
  "language_info": {
   "codemirror_mode": {
    "name": "ipython",
    "version": 3
   },
   "file_extension": ".py",
   "mimetype": "text/x-python",
   "name": "python",
   "nbconvert_exporter": "python",
   "pygments_lexer": "ipython3",
   "version": "3.6.6"
  }
 },
 "nbformat": 4,
 "nbformat_minor": 2
}
