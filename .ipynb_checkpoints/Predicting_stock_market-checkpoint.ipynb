{
 "cells": [
  {
   "cell_type": "code",
   "execution_count": 499,
   "metadata": {},
   "outputs": [],
   "source": [
    "import pandas as pd\n",
    "import numpy as np\n",
    "import matplotlib.pyplot as plt\n",
    "import seaborn as sns\n",
    "from sklearn.model_selection import train_test_split\n",
    "from sklearn.preprocessing import Normalizer\n",
    "from sklearn.svm import SVC\n",
    "from sklearn.model_selection import GridSearchCV\n",
    "from sklearn.model_selection import RandomizedSearchCV\n",
    "from sklearn.metrics import roc_auc_score\n",
    "from sklearn.metrics import roc_curve\n",
    "from sklearn.linear_model import LogisticRegression\n",
    "from sklearn.ensemble import RandomForestClassifier\n",
    "\n",
    "%matplotlib inline\n"
   ]
  },
  {
   "cell_type": "code",
   "execution_count": 500,
   "metadata": {},
   "outputs": [],
   "source": [
    "# Import data\n",
    "data = pd.read_excel(\"support_files/OSEBX.xlsx\")"
   ]
  },
  {
   "cell_type": "code",
   "execution_count": 501,
   "metadata": {},
   "outputs": [
    {
     "data": {
      "text/html": [
       "<div>\n",
       "<style scoped>\n",
       "    .dataframe tbody tr th:only-of-type {\n",
       "        vertical-align: middle;\n",
       "    }\n",
       "\n",
       "    .dataframe tbody tr th {\n",
       "        vertical-align: top;\n",
       "    }\n",
       "\n",
       "    .dataframe thead th {\n",
       "        text-align: right;\n",
       "    }\n",
       "</style>\n",
       "<table border=\"1\" class=\"dataframe\">\n",
       "  <thead>\n",
       "    <tr style=\"text-align: right;\">\n",
       "      <th></th>\n",
       "      <th>OSEBX</th>\n",
       "      <th>Last</th>\n",
       "      <th>High</th>\n",
       "      <th>Low</th>\n",
       "      <th>Official turnover (NOK)</th>\n",
       "    </tr>\n",
       "  </thead>\n",
       "  <tbody>\n",
       "    <tr>\n",
       "      <th>0</th>\n",
       "      <td>2018-11-14</td>\n",
       "      <td>NaN</td>\n",
       "      <td>NaN</td>\n",
       "      <td>NaN</td>\n",
       "      <td>3.790000e+02</td>\n",
       "    </tr>\n",
       "    <tr>\n",
       "      <th>1</th>\n",
       "      <td>2018-11-13</td>\n",
       "      <td>875.43</td>\n",
       "      <td>887.95</td>\n",
       "      <td>875.17</td>\n",
       "      <td>5.126725e+09</td>\n",
       "    </tr>\n",
       "    <tr>\n",
       "      <th>2</th>\n",
       "      <td>2018-11-12</td>\n",
       "      <td>886.62</td>\n",
       "      <td>892.64</td>\n",
       "      <td>885.44</td>\n",
       "      <td>3.591581e+09</td>\n",
       "    </tr>\n",
       "    <tr>\n",
       "      <th>3</th>\n",
       "      <td>2018-11-09</td>\n",
       "      <td>886.44</td>\n",
       "      <td>892.58</td>\n",
       "      <td>884.16</td>\n",
       "      <td>4.405451e+09</td>\n",
       "    </tr>\n",
       "    <tr>\n",
       "      <th>4</th>\n",
       "      <td>2018-11-08</td>\n",
       "      <td>892.49</td>\n",
       "      <td>900.74</td>\n",
       "      <td>891.50</td>\n",
       "      <td>4.463838e+09</td>\n",
       "    </tr>\n",
       "  </tbody>\n",
       "</table>\n",
       "</div>"
      ],
      "text/plain": [
       "       OSEBX    Last    High     Low  Official turnover (NOK)\n",
       "0 2018-11-14     NaN     NaN     NaN             3.790000e+02\n",
       "1 2018-11-13  875.43  887.95  875.17             5.126725e+09\n",
       "2 2018-11-12  886.62  892.64  885.44             3.591581e+09\n",
       "3 2018-11-09  886.44  892.58  884.16             4.405451e+09\n",
       "4 2018-11-08  892.49  900.74  891.50             4.463838e+09"
      ]
     },
     "execution_count": 501,
     "metadata": {},
     "output_type": "execute_result"
    }
   ],
   "source": [
    "data.head()"
   ]
  },
  {
   "cell_type": "code",
   "execution_count": 502,
   "metadata": {},
   "outputs": [],
   "source": [
    "data.rename(columns={'OSEBX' : 'Date', 'Official turnover (NOK)' : 'Volume'}, inplace=True)"
   ]
  },
  {
   "cell_type": "code",
   "execution_count": 503,
   "metadata": {},
   "outputs": [],
   "source": [
    "data['Date'] = pd.to_datetime(data['Date'])"
   ]
  },
  {
   "cell_type": "code",
   "execution_count": 504,
   "metadata": {},
   "outputs": [
    {
     "name": "stdout",
     "output_type": "stream",
     "text": [
      "<class 'pandas.core.frame.DataFrame'>\n",
      "RangeIndex: 5743 entries, 0 to 5742\n",
      "Data columns (total 5 columns):\n",
      "Date      5743 non-null datetime64[ns]\n",
      "Last      5742 non-null float64\n",
      "High      4390 non-null float64\n",
      "Low       4390 non-null float64\n",
      "Volume    5624 non-null float64\n",
      "dtypes: datetime64[ns](1), float64(4)\n",
      "memory usage: 224.4 KB\n"
     ]
    }
   ],
   "source": [
    "data.info()"
   ]
  },
  {
   "cell_type": "code",
   "execution_count": 505,
   "metadata": {},
   "outputs": [],
   "source": [
    "data['Direction'] = data.Last.diff().shift()"
   ]
  },
  {
   "cell_type": "code",
   "execution_count": 506,
   "metadata": {},
   "outputs": [],
   "source": [
    "data['Direction'] = data.Direction.apply(lambda x: 1 if x > 0 else 0)"
   ]
  },
  {
   "cell_type": "code",
   "execution_count": 507,
   "metadata": {},
   "outputs": [],
   "source": [
    "data['Close'] = data.Last.shift()\n",
    "data.drop('Last', axis=1, inplace=True)"
   ]
  },
  {
   "cell_type": "code",
   "execution_count": 508,
   "metadata": {},
   "outputs": [
    {
     "name": "stderr",
     "output_type": "stream",
     "text": [
      "C:\\anaconda\\lib\\site-packages\\ipykernel\\__main__.py:1: FutureWarning: set_value is deprecated and will be removed in a future release. Please use .at[] or .iat[] accessors instead\n",
      "  if __name__ == '__main__':\n",
      "C:\\anaconda\\lib\\site-packages\\ipykernel\\__main__.py:2: FutureWarning: set_value is deprecated and will be removed in a future release. Please use .at[] or .iat[] accessors instead\n",
      "  from ipykernel import kernelapp as app\n"
     ]
    }
   ],
   "source": [
    "data.set_value(1, 'Close', 876.30)\n",
    "data.set_value(0, 'Close', 872.10);"
   ]
  },
  {
   "cell_type": "code",
   "execution_count": 509,
   "metadata": {},
   "outputs": [],
   "source": [
    "# Reorder columns\n",
    "data = data[['Date', 'High', 'Low', 'Close', 'Volume', 'Direction']].copy()"
   ]
  },
  {
   "cell_type": "code",
   "execution_count": 510,
   "metadata": {},
   "outputs": [],
   "source": [
    "# Sort the timeseries correctly with last observation on the last row (important for technical features)\n",
    "data = data.sort_values(by='Date', ascending=True);"
   ]
  },
  {
   "cell_type": "code",
   "execution_count": 511,
   "metadata": {},
   "outputs": [],
   "source": [
    "# Moving average indicators, short, medium and long term\n",
    "data['SMA10'] = data.Close.rolling(10).mean()\n",
    "data['SMA30'] = data.Close.rolling(30).mean()\n",
    "data['SMA90'] = data.Close.rolling(90).mean()"
   ]
  },
  {
   "cell_type": "code",
   "execution_count": null,
   "metadata": {},
   "outputs": [],
   "source": []
  },
  {
   "cell_type": "code",
   "execution_count": 512,
   "metadata": {},
   "outputs": [],
   "source": [
    "# Exponential moving average \n",
    "data['EWA10'] = data['Close'].ewm(span=10, min_periods=10).mean()\n",
    "data['EWA30'] = data['Close'].ewm(span=30, min_periods=30).mean()\n",
    "data['EWA90'] = data['Close'].ewm(span=90, min_periods=90).mean()"
   ]
  },
  {
   "cell_type": "code",
   "execution_count": 513,
   "metadata": {},
   "outputs": [],
   "source": [
    "# Stochastic Osciallator\n",
    "data['SOI'] = (data['Close'] - data['Low']) / (data['High'] - data['Low'])"
   ]
  },
  {
   "cell_type": "code",
   "execution_count": 514,
   "metadata": {},
   "outputs": [],
   "source": [
    "# 10, 5 and 2 Day Momentum\n",
    "data['Momentum_10'] = data['Close'].diff(10)\n",
    "data['Momentum_5'] = data['Close'].diff(5)\n",
    "data['Momentum_2'] = data['Close'].diff(2)"
   ]
  },
  {
   "cell_type": "code",
   "execution_count": 515,
   "metadata": {},
   "outputs": [],
   "source": [
    "data['STD'] = data['Close'].rolling(20, min_periods=20).std()"
   ]
  },
  {
   "cell_type": "code",
   "execution_count": 516,
   "metadata": {},
   "outputs": [],
   "source": [
    "data.reset_index(drop=True, inplace=True);"
   ]
  },
  {
   "cell_type": "code",
   "execution_count": 517,
   "metadata": {},
   "outputs": [],
   "source": [
    "def relative_strength_index(df, n):\n",
    "    \"\"\"Calculate Relative Strength Index(RSI) for given data.\n",
    "    \n",
    "    :param df: pandas.DataFrame\n",
    "    :param n: \n",
    "    :return: pandas.DataFrame\n",
    "    \"\"\"\n",
    "    i = 0\n",
    "    UpI = [0]\n",
    "    DoI = [0]\n",
    "    while i + 1 <= df.index[-1]:\n",
    "        UpMove = df.loc[i + 1, 'High'] - df.loc[i, 'High']\n",
    "        DoMove = df.loc[i, 'Low'] - df.loc[i + 1, 'Low']\n",
    "        if UpMove > DoMove and UpMove > 0:\n",
    "            UpD = UpMove\n",
    "        else:\n",
    "            UpD = 0\n",
    "        UpI.append(UpD)\n",
    "        if DoMove > UpMove and DoMove > 0:\n",
    "            DoD = DoMove\n",
    "        else:\n",
    "            DoD = 0\n",
    "        DoI.append(DoD)\n",
    "        i = i + 1\n",
    "    UpI = pd.Series(UpI)\n",
    "    DoI = pd.Series(DoI)\n",
    "    PosDI = pd.Series(UpI.ewm(span=n, min_periods=n).mean())\n",
    "    NegDI = pd.Series(DoI.ewm(span=n, min_periods=n).mean())\n",
    "    RSI = pd.Series(PosDI / (PosDI + NegDI), name='RSI_' + str(n))\n",
    "    df = df.join(RSI)\n",
    "    \n",
    "    return df"
   ]
  },
  {
   "cell_type": "code",
   "execution_count": 518,
   "metadata": {},
   "outputs": [],
   "source": [
    "data = relative_strength_index(data, 14)"
   ]
  },
  {
   "cell_type": "code",
   "execution_count": 519,
   "metadata": {},
   "outputs": [
    {
     "data": {
      "text/plain": [
       "Date              0\n",
       "High           1353\n",
       "Low            1353\n",
       "Close             0\n",
       "Volume          119\n",
       "Direction         0\n",
       "SMA10             9\n",
       "SMA30            29\n",
       "SMA90            89\n",
       "EWA10             9\n",
       "EWA30            29\n",
       "EWA90            89\n",
       "SOI            1353\n",
       "Momentum_10      10\n",
       "Momentum_5        5\n",
       "Momentum_2        2\n",
       "STD              19\n",
       "RSI_14         1352\n",
       "dtype: int64"
      ]
     },
     "execution_count": 519,
     "metadata": {},
     "output_type": "execute_result"
    }
   ],
   "source": [
    "data.isnull().sum()"
   ]
  },
  {
   "cell_type": "code",
   "execution_count": 520,
   "metadata": {},
   "outputs": [
    {
     "data": {
      "text/html": [
       "<div>\n",
       "<style scoped>\n",
       "    .dataframe tbody tr th:only-of-type {\n",
       "        vertical-align: middle;\n",
       "    }\n",
       "\n",
       "    .dataframe tbody tr th {\n",
       "        vertical-align: top;\n",
       "    }\n",
       "\n",
       "    .dataframe thead th {\n",
       "        text-align: right;\n",
       "    }\n",
       "</style>\n",
       "<table border=\"1\" class=\"dataframe\">\n",
       "  <thead>\n",
       "    <tr style=\"text-align: right;\">\n",
       "      <th></th>\n",
       "      <th>Date</th>\n",
       "      <th>High</th>\n",
       "      <th>Low</th>\n",
       "      <th>Close</th>\n",
       "      <th>Volume</th>\n",
       "      <th>Direction</th>\n",
       "      <th>SMA10</th>\n",
       "      <th>SMA30</th>\n",
       "      <th>SMA90</th>\n",
       "      <th>EWA10</th>\n",
       "      <th>EWA30</th>\n",
       "      <th>EWA90</th>\n",
       "      <th>SOI</th>\n",
       "      <th>Momentum_10</th>\n",
       "      <th>Momentum_5</th>\n",
       "      <th>Momentum_2</th>\n",
       "      <th>STD</th>\n",
       "      <th>RSI_14</th>\n",
       "    </tr>\n",
       "  </thead>\n",
       "  <tbody>\n",
       "    <tr>\n",
       "      <th>5738</th>\n",
       "      <td>2018-11-08</td>\n",
       "      <td>900.74</td>\n",
       "      <td>891.50</td>\n",
       "      <td>886.44</td>\n",
       "      <td>4.463838e+09</td>\n",
       "      <td>0</td>\n",
       "      <td>886.731</td>\n",
       "      <td>897.993333</td>\n",
       "      <td>899.857444</td>\n",
       "      <td>888.206148</td>\n",
       "      <td>894.047189</td>\n",
       "      <td>894.163126</td>\n",
       "      <td>-0.547619</td>\n",
       "      <td>23.64</td>\n",
       "      <td>-2.58</td>\n",
       "      <td>-9.17</td>\n",
       "      <td>12.630985</td>\n",
       "      <td>0.637307</td>\n",
       "    </tr>\n",
       "    <tr>\n",
       "      <th>5739</th>\n",
       "      <td>2018-11-09</td>\n",
       "      <td>892.58</td>\n",
       "      <td>884.16</td>\n",
       "      <td>886.62</td>\n",
       "      <td>4.405451e+09</td>\n",
       "      <td>1</td>\n",
       "      <td>887.815</td>\n",
       "      <td>896.143667</td>\n",
       "      <td>899.834778</td>\n",
       "      <td>887.917757</td>\n",
       "      <td>893.568015</td>\n",
       "      <td>893.997343</td>\n",
       "      <td>0.292162</td>\n",
       "      <td>10.84</td>\n",
       "      <td>-6.97</td>\n",
       "      <td>-5.87</td>\n",
       "      <td>12.487752</td>\n",
       "      <td>0.501824</td>\n",
       "    </tr>\n",
       "    <tr>\n",
       "      <th>5740</th>\n",
       "      <td>2018-11-12</td>\n",
       "      <td>892.64</td>\n",
       "      <td>885.44</td>\n",
       "      <td>875.43</td>\n",
       "      <td>3.591581e+09</td>\n",
       "      <td>0</td>\n",
       "      <td>888.473</td>\n",
       "      <td>893.839333</td>\n",
       "      <td>899.571444</td>\n",
       "      <td>885.647256</td>\n",
       "      <td>892.397821</td>\n",
       "      <td>893.589269</td>\n",
       "      <td>-1.390278</td>\n",
       "      <td>6.58</td>\n",
       "      <td>-15.48</td>\n",
       "      <td>-11.01</td>\n",
       "      <td>11.813649</td>\n",
       "      <td>0.502821</td>\n",
       "    </tr>\n",
       "    <tr>\n",
       "      <th>5741</th>\n",
       "      <td>2018-11-13</td>\n",
       "      <td>887.95</td>\n",
       "      <td>875.17</td>\n",
       "      <td>876.30</td>\n",
       "      <td>5.126725e+09</td>\n",
       "      <td>0</td>\n",
       "      <td>887.137</td>\n",
       "      <td>891.706000</td>\n",
       "      <td>899.407667</td>\n",
       "      <td>883.947755</td>\n",
       "      <td>891.359252</td>\n",
       "      <td>893.209285</td>\n",
       "      <td>0.088419</td>\n",
       "      <td>-13.36</td>\n",
       "      <td>-19.31</td>\n",
       "      <td>-10.32</td>\n",
       "      <td>10.976545</td>\n",
       "      <td>0.360389</td>\n",
       "    </tr>\n",
       "    <tr>\n",
       "      <th>5742</th>\n",
       "      <td>2018-11-14</td>\n",
       "      <td>NaN</td>\n",
       "      <td>NaN</td>\n",
       "      <td>872.10</td>\n",
       "      <td>3.790000e+02</td>\n",
       "      <td>0</td>\n",
       "      <td>885.851</td>\n",
       "      <td>889.777667</td>\n",
       "      <td>899.264444</td>\n",
       "      <td>881.793618</td>\n",
       "      <td>890.116719</td>\n",
       "      <td>892.745345</td>\n",
       "      <td>NaN</td>\n",
       "      <td>-12.86</td>\n",
       "      <td>-20.39</td>\n",
       "      <td>-3.33</td>\n",
       "      <td>11.038384</td>\n",
       "      <td>0.360389</td>\n",
       "    </tr>\n",
       "  </tbody>\n",
       "</table>\n",
       "</div>"
      ],
      "text/plain": [
       "           Date    High     Low   Close        Volume  Direction    SMA10  \\\n",
       "5738 2018-11-08  900.74  891.50  886.44  4.463838e+09          0  886.731   \n",
       "5739 2018-11-09  892.58  884.16  886.62  4.405451e+09          1  887.815   \n",
       "5740 2018-11-12  892.64  885.44  875.43  3.591581e+09          0  888.473   \n",
       "5741 2018-11-13  887.95  875.17  876.30  5.126725e+09          0  887.137   \n",
       "5742 2018-11-14     NaN     NaN  872.10  3.790000e+02          0  885.851   \n",
       "\n",
       "           SMA30       SMA90       EWA10       EWA30       EWA90       SOI  \\\n",
       "5738  897.993333  899.857444  888.206148  894.047189  894.163126 -0.547619   \n",
       "5739  896.143667  899.834778  887.917757  893.568015  893.997343  0.292162   \n",
       "5740  893.839333  899.571444  885.647256  892.397821  893.589269 -1.390278   \n",
       "5741  891.706000  899.407667  883.947755  891.359252  893.209285  0.088419   \n",
       "5742  889.777667  899.264444  881.793618  890.116719  892.745345       NaN   \n",
       "\n",
       "      Momentum_10  Momentum_5  Momentum_2        STD    RSI_14  \n",
       "5738        23.64       -2.58       -9.17  12.630985  0.637307  \n",
       "5739        10.84       -6.97       -5.87  12.487752  0.501824  \n",
       "5740         6.58      -15.48      -11.01  11.813649  0.502821  \n",
       "5741       -13.36      -19.31      -10.32  10.976545  0.360389  \n",
       "5742       -12.86      -20.39       -3.33  11.038384  0.360389  "
      ]
     },
     "execution_count": 520,
     "metadata": {},
     "output_type": "execute_result"
    }
   ],
   "source": [
    "data.tail()"
   ]
  },
  {
   "cell_type": "code",
   "execution_count": 521,
   "metadata": {},
   "outputs": [],
   "source": [
    "data.dropna(inplace=True)"
   ]
  },
  {
   "cell_type": "code",
   "execution_count": 522,
   "metadata": {},
   "outputs": [
    {
     "data": {
      "image/png": "[encoded data removed]",
      "text/plain": [
       "<Figure size 432x288 with 1 Axes>"
      ]
     },
     "metadata": {},
     "output_type": "display_data"
    }
   ],
   "source": [
    "# Visualize sanity check\n",
    "data.iloc[4000:4050].plot(x='Date', y=['SOI', 'Momentum_10']);"
   ]
  },
  {
   "cell_type": "code",
   "execution_count": 523,
   "metadata": {},
   "outputs": [
    {
     "data": {
      "image/png": "[encoded data removed]",
      "text/plain": [
       "<Figure size 432x288 with 1 Axes>"
      ]
     },
     "metadata": {},
     "output_type": "display_data"
    }
   ],
   "source": [
    "plt.hist(data.Direction);\n",
    "        "
   ]
  },
  {
   "cell_type": "code",
   "execution_count": 524,
   "metadata": {},
   "outputs": [],
   "source": [
    "# data.reset_index(drop=True, inplace=True)"
   ]
  },
  {
   "cell_type": "code",
   "execution_count": 525,
   "metadata": {},
   "outputs": [],
   "source": [
    "# Set index to Date\n",
    "data.set_index('Date', inplace=True)"
   ]
  },
  {
   "cell_type": "code",
   "execution_count": null,
   "metadata": {},
   "outputs": [],
   "source": []
  },
  {
   "cell_type": "code",
   "execution_count": 526,
   "metadata": {},
   "outputs": [],
   "source": [
    "data.replace(-np.inf, np.nan, inplace=True)"
   ]
  },
  {
   "cell_type": "code",
   "execution_count": 527,
   "metadata": {},
   "outputs": [],
   "source": [
    "data.fillna(method='ffill', inplace=True)"
   ]
  },
  {
   "cell_type": "code",
   "execution_count": 528,
   "metadata": {},
   "outputs": [
    {
     "data": {
      "text/plain": [
       "High           4.646017e+02\n",
       "Low            4.646017e+02\n",
       "Close          4.498446e+02\n",
       "Volume         1.486682e+10\n",
       "Direction      1.000000e+00\n",
       "SMA10          4.773083e+02\n",
       "SMA30          4.808609e+02\n",
       "SMA90          4.883014e+02\n",
       "EWA10          4.719352e+02\n",
       "EWA30          4.797044e+02\n",
       "EWA90          4.848996e+02\n",
       "SOI           -3.004182e-01\n",
       "Momentum_10   -2.013610e+01\n",
       "Momentum_5    -3.659890e+01\n",
       "Momentum_2    -2.801830e+01\n",
       "STD            1.105702e+01\n",
       "RSI_14         3.476673e-01\n",
       "Name: 2008-01-09 00:00:00, dtype: float64"
      ]
     },
     "execution_count": 528,
     "metadata": {},
     "output_type": "execute_result"
    }
   ],
   "source": [
    "data.iloc[1662,:]"
   ]
  },
  {
   "cell_type": "code",
   "execution_count": null,
   "metadata": {},
   "outputs": [],
   "source": []
  },
  {
   "cell_type": "code",
   "execution_count": 531,
   "metadata": {},
   "outputs": [],
   "source": [
    "target = data.Direction\n"
   ]
  },
  {
   "cell_type": "code",
   "execution_count": 532,
   "metadata": {},
   "outputs": [],
   "source": [
    "features = data.drop([\"Direction\"], axis=1)\n"
   ]
  },
  {
   "cell_type": "code",
   "execution_count": 533,
   "metadata": {},
   "outputs": [],
   "source": [
    "\n",
    "\n",
    "norm = Normalizer()\n",
    "features = norm.fit_transform(features)"
   ]
  },
  {
   "cell_type": "code",
   "execution_count": 534,
   "metadata": {},
   "outputs": [],
   "source": [
    "X_train, X_test, y_train, y_test = train_test_split(features, target, test_size=0.30)"
   ]
  },
  {
   "cell_type": "code",
   "execution_count": 535,
   "metadata": {},
   "outputs": [
    {
     "data": {
      "text/plain": [
       "(4388,)"
      ]
     },
     "execution_count": 535,
     "metadata": {},
     "output_type": "execute_result"
    }
   ],
   "source": [
    "target.shape"
   ]
  },
  {
   "cell_type": "code",
   "execution_count": 536,
   "metadata": {},
   "outputs": [],
   "source": [
    "clf = SVC(probability=True)\n",
    "\n",
    "param_dist_svm = {\n",
    " 'kernel': ['linear', 'rbf', 'poly'],\n",
    " 'C' : [0.001,0.05,0.1]\n",
    "\n",
    " }\n",
    "\n",
    "svmmodel = GridSearchCV(clf, param_grid=param_dist_svm )\n",
    "svmmodel.fit(X_train, y_train);\n"
   ]
  },
  {
   "cell_type": "code",
   "execution_count": 537,
   "metadata": {},
   "outputs": [],
   "source": [
    "y_pred = svmmodel.predict_proba(X_test)\n"
   ]
  },
  {
   "cell_type": "code",
   "execution_count": 538,
   "metadata": {},
   "outputs": [],
   "source": [
    "def roc_scores (y_predict, y_test=y_test):\n",
    "    \n",
    "    # Compute for probabilities for positive outcome\n",
    "    fpr, tpr, tresholds = roc_curve(y_test, y_predict[:,1])\n",
    "    roc_auc = roc_auc_score(y_test, y_predict[:,1])\n",
    "\n",
    "    return fpr, tpr, tresholds, roc_auc\n",
    "\n",
    "def plot_roc(fpr, tpr, roc_auc, title=\"ROC\"):\n",
    "    plt.plot(fpr, tpr, label='ROC curve (area = %0.3f)' % roc_auc)\n",
    "    plt.plot([0, 1], [0, 1], 'k--')  # random predictions curve\n",
    "    plt.xlim([0.0, 1.0])\n",
    "    plt.ylim([0.0, 1.0])\n",
    "    plt.xlabel('False Positive Rate')\n",
    "    plt.ylabel('True Positive Rate')\n",
    "    plt.title(title)\n",
    "    plt.legend(loc=\"lower right\");"
   ]
  },
  {
   "cell_type": "code",
   "execution_count": 539,
   "metadata": {},
   "outputs": [
    {
     "data": {
      "image/png": "[encoded data removed]",
      "text/plain": [
       "<Figure size 432x288 with 1 Axes>"
      ]
     },
     "metadata": {},
     "output_type": "display_data"
    }
   ],
   "source": [
    "fpr, tpr, tresholds, roc_auc = roc_scores(y_pred)\n",
    "plot_roc(fpr,tpr,roc_auc, 'SVM')"
   ]
  },
  {
   "cell_type": "code",
   "execution_count": 540,
   "metadata": {},
   "outputs": [],
   "source": [
    "lr = LogisticRegression()"
   ]
  },
  {
   "cell_type": "code",
   "execution_count": 541,
   "metadata": {},
   "outputs": [
    {
     "data": {
      "text/plain": [
       "LogisticRegression(C=1.0, class_weight=None, dual=False, fit_intercept=True,\n",
       "          intercept_scaling=1, max_iter=100, multi_class='ovr', n_jobs=1,\n",
       "          penalty='l2', random_state=None, solver='liblinear', tol=0.0001,\n",
       "          verbose=0, warm_start=False)"
      ]
     },
     "execution_count": 541,
     "metadata": {},
     "output_type": "execute_result"
    }
   ],
   "source": [
    "lr.fit(X_train, y_train)"
   ]
  },
  {
   "cell_type": "code",
   "execution_count": 542,
   "metadata": {},
   "outputs": [],
   "source": [
    "y_perd_lr = lr.predict_proba(X_test)"
   ]
  },
  {
   "cell_type": "code",
   "execution_count": 543,
   "metadata": {},
   "outputs": [
    {
     "data": {
      "image/png": "[encoded data removed]",
      "text/plain": [
       "<Figure size 432x288 with 1 Axes>"
      ]
     },
     "metadata": {},
     "output_type": "display_data"
    }
   ],
   "source": [
    "fpr, tpr, tresholds, roc_auc = roc_scores(y_perd_lr)\n",
    "plot_roc(fpr,tpr,roc_auc, 'Logistic regression')"
   ]
  },
  {
   "cell_type": "code",
   "execution_count": null,
   "metadata": {},
   "outputs": [],
   "source": [
    "rf = RandomForestClassifier()\n",
    "\n",
    "# specify parameters and distributions to sample from\n",
    "param_dist1 = {\"max_depth\": [5,10,15,20],\n",
    "              \"n_estimators\" : [100, 1000, 10000],\n",
    "              \"min_samples_split\": [3,5,10,15,20],\n",
    "              \"bootstrap\": [True, False],\n",
    "              \"min_samples_leaf\" : [3,5,10,15,20]\n",
    "                            }\n",
    "n_iter_search = 20\n",
    "randommodel = RandomizedSearchCV(rf, param_distributions=param_dist1,\n",
    "                                   n_iter=n_iter_search, cv=5, verbose=10, n_jobs=-1)\n",
    "randommodel.fit(X_train, y_train);"
   ]
  },
  {
   "cell_type": "code",
   "execution_count": 222,
   "metadata": {},
   "outputs": [],
   "source": [
    "rf_pred = randommodel.predict_proba(X_test)"
   ]
  },
  {
   "cell_type": "code",
   "execution_count": 223,
   "metadata": {},
   "outputs": [
    {
     "data": {
      "image/png": "[encoded data removed]",
      "text/plain": [
       "<Figure size 432x288 with 1 Axes>"
      ]
     },
     "metadata": {
      "needs_background": "light"
     },
     "output_type": "display_data"
    }
   ],
   "source": [
    "fpr, tpr, tresholds, roc_auc = roc_scores(rf_pred)\n",
    "plot_roc(fpr,tpr,roc_auc, 'Random Forest')"
   ]
  },
  {
   "cell_type": "code",
   "execution_count": null,
   "metadata": {},
   "outputs": [],
   "source": []
  }
 ],
 "metadata": {
  "kernelspec": {
   "display_name": "Python [default]",
   "language": "python",
   "name": "python3"
  },
  "language_info": {
   "codemirror_mode": {
    "name": "ipython",
    "version": 3
   },
   "file_extension": ".py",
   "mimetype": "text/x-python",
   "name": "python",
   "nbconvert_exporter": "python",
   "pygments_lexer": "ipython3",
   "version": "3.6.6"
  }
 },
 "nbformat": 4,
 "nbformat_minor": 2
}
